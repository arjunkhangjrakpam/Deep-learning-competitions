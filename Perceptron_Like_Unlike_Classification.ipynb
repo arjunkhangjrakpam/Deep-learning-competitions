{
  "nbformat": 4,
  "nbformat_minor": 0,
  "metadata": {
    "colab": {
      "name": "Perceptron - Like Unlike Classification.ipynb",
      "version": "0.3.2",
      "provenance": [],
      "collapsed_sections": [],
      "include_colab_link": true
    },
    "kernelspec": {
      "name": "python3",
      "display_name": "Python 3"
    },
    "accelerator": "GPU"
  },
  "cells": [
    {
      "cell_type": "markdown",
      "metadata": {
        "id": "view-in-github",
        "colab_type": "text"
      },
      "source": [
        "<a href=\"https://colab.research.google.com/github/arjunkhangjrakpam/Deep-learning-competitions/blob/master/Perceptron_Like_Unlike_Classification.ipynb\" target=\"_parent\"><img src=\"https://colab.research.google.com/assets/colab-badge.svg\" alt=\"Open In Colab\"/></a>"
      ]
    },
    {
      "metadata": {
        "_uuid": "05176fd41ffe89503199caed0b73b1fba8c42195",
        "id": "TUcOdPqZFuyH",
        "colab_type": "text"
      },
      "cell_type": "markdown",
      "source": [
        "# **Perceptron - Like Unlike Classification**"
      ]
    },
    {
      "metadata": {
        "id": "TebnSpHR7H45",
        "colab_type": "text"
      },
      "cell_type": "markdown",
      "source": [
        "## In this model we try to identify the people's opinion on mobile phones using MP Neuron. The data points are scraped from 91mobiles.com"
      ]
    },
    {
      "metadata": {
        "trusted": true,
        "_uuid": "f0e33a33c9c535d53464d87fbad17991613b798a",
        "id": "GtwsEtuCFuyM",
        "colab_type": "code",
        "colab": {}
      },
      "cell_type": "code",
      "source": [
        "import numpy as np\n",
        "import pandas as pd\n",
        "import matplotlib.pyplot as plt\n",
        "from sklearn.preprocessing import LabelEncoder,MinMaxScaler, StandardScaler\n",
        "from sklearn.model_selection import train_test_split, ParameterGrid\n",
        "from sklearn.metrics import accuracy_score, confusion_matrix, mean_squared_error, log_loss\n",
        "import operator\n",
        "import json\n",
        "from IPython import display\n",
        "import os\n",
        "import warnings\n",
        "\n",
        "np.random.seed(0)\n",
        "warnings.filterwarnings(\"ignore\")\n",
        "THRESHOLD = 4"
      ],
      "execution_count": 0,
      "outputs": []
    },
    {
      "metadata": {
        "_uuid": "519730afa4d7e7fb3a650d0984a051e0a877ce91",
        "id": "RRQF68bUFuyX",
        "colab_type": "text"
      },
      "cell_type": "markdown",
      "source": [
        "Task: To predict whether the user likes the mobile phone or not. <br>\n",
        "Assumption: If the average rating of mobile >= threshold, then the user likes it, otherwise not."
      ]
    },
    {
      "metadata": {
        "_uuid": "462d36ef8336eec752d8dca1eccadba552421fd3",
        "id": "tdvvTGFpFuyZ",
        "colab_type": "text"
      },
      "cell_type": "markdown",
      "source": [
        "<b>Missing values:</b><br>\n",
        "'Also Known As'(459),'Applications'(421),'Audio Features'(437),'Bezel-less display'(266),'Browser'(449),'Build Material'(338),'Co-Processor'(451),'Display Colour'(457),'Mobile High-Definition Link(MHL)'(472),'Music'(447)\n",
        "'Email','Fingerprint Sensor Position'(174),'Games'(446),'HDMI'(454),'Heart Rate Monitor'(467),'IRIS Scanner'(467),\n",
        "'Optical Image Stabilisation'(219),'Other Facilities'(444),'Phone Book'(444),'Physical Aperture'(87),'Quick Charging'(122),'Ring Tone'(444),'Ruggedness'(430),SAR Value(315),'SIM 3'(472),'SMS'(470)', 'Screen Protection'(229),'Screen to Body Ratio (claimed by the brand)'(428),'Sensor'(242),'Software Based Aperture'(473),\n",
        "'Special Features'(459),'Standby time'(334),'Stylus'(473),'TalkTime'(259), 'USB Type-C'(374),'Video Player'(456),\n",
        "'Video Recording Features'(458),'Waterproof'(398),'Wireless Charging','USB OTG Support'(159), 'Video ,'Recording'(113),'Java'(471),'Browser'(448)\n",
        "\n",
        "<b>Very low variance:</b><br>\n",
        "'Architecture'(most entries are 64-bit),'Audio Jack','GPS','Loudspeaker','Network','Network Support','Other Sensors'(28),'SIM Size', 'VoLTE'\n",
        "\n",
        "\n",
        "<b>Multivalued:</b><br>\n",
        "'Colours','Custom UI','Model'(1),'Other Sensors','Launch Date'\n",
        "\n",
        "<b>Not important:</b><br>\n",
        "'Bluetooth', 'Settings'(75),'Wi-Fi','Wi-Fi Features'\n",
        "\n",
        "<b>Doubtful:</b><br>\n",
        "'Aspect Ratio','Autofocus','Brand','Camera Features','Fingerprint Sensor'(very few entries are missing),\n",
        "'Fingerprint Sensor Position', 'Graphics'(multivalued),'Image resolution'(multivalued),'SIM Size','Sim Slot(s)', 'User Available Storage', 'SIM 1', 'SIM 2','Shooting Modes', 'Touch Screen'(24), 'USB Connectivity'\n",
        "    \n",
        "<b>To check:</b><br>\n",
        "'Display Type','Expandable Memory','FM Radio'\n",
        "\n",
        "<b>High Correlation with other features</b><br>\n",
        "'SIM Slot(s)' high correlation with SIM1\n",
        "'Weight' has high high correlation with capacity , screen-to-body ratio\n",
        "'Height' - screen size is also there\n",
        "    \n",
        "<b>Given a mobile, we can't directly get these features</b><br>\n",
        "'Rating Count', 'Review Count'\n",
        "\n",
        "<b>Keeping:</b><br>\n",
        "'Capacity','Flash'(17),'Height'(22),'Internal Memory'(20, require cleaning),'Operating System'(25, require cleaning), 'Pixel Density'(1, clean it),'Processor'(22, clean it), 'RAM'(17, clean), 'Rating','Resolution'(cleaning), 'Screen Resolution','Screen Size', 'Thickness'(22), 'Type','User Replaceable','Weight'(cleaning),'Sim Size'(), 'Other Sensors'(28), 'Screen to Body Ratio (calculated)','Width',\n"
      ]
    },
    {
      "metadata": {
        "id": "DU1hjXHpL9j2",
        "colab_type": "code",
        "outputId": "319479c4-b13a-4dba-80a8-6a482cc6ca6d",
        "colab": {
          "resources": {
            "http://localhost:8080/nbextensions/google.colab/files.js": {
              "data": "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",
              "ok": true,
              "headers": [
                [
                  "content-type",
                  "application/javascript"
                ]
              ],
              "status": 200,
              "status_text": ""
            }
          },
          "base_uri": "https://localhost:8080/",
          "height": 108
        }
      },
      "cell_type": "code",
      "source": [
        "#import data from local computer\n",
        "from google.colab import files\n",
        "uploaded = files.upload()"
      ],
      "execution_count": 4,
      "outputs": [
        {
          "output_type": "display_data",
          "data": {
            "text/html": [
              "\n",
              "     <input type=\"file\" id=\"files-f8c5709a-fc20-4d66-8b22-7a45d4882943\" name=\"files[]\" multiple disabled />\n",
              "     <output id=\"result-f8c5709a-fc20-4d66-8b22-7a45d4882943\">\n",
              "      Upload widget is only available when the cell has been executed in the\n",
              "      current browser session. Please rerun this cell to enable.\n",
              "      </output>\n",
              "      <script src=\"/nbextensions/google.colab/files.js\"></script> "
            ],
            "text/plain": [
              "<IPython.core.display.HTML object>"
            ]
          },
          "metadata": {
            "tags": []
          }
        },
        {
          "output_type": "stream",
          "text": [
            "Saving test.csv to test (2).csv\n",
            "Saving train.csv to train (2).csv\n"
          ],
          "name": "stdout"
        }
      ]
    },
    {
      "metadata": {
        "trusted": true,
        "_uuid": "8b1e421cf35a68216afaa09836b5e6f609bab5ce",
        "id": "UBEvEQ3hFuyc",
        "colab_type": "code",
        "outputId": "a5bddd98-a028-4bfb-97f5-81d8950de026",
        "colab": {
          "base_uri": "https://localhost:8080/",
          "height": 87
        }
      },
      "cell_type": "code",
      "source": [
        "# read data from file\n",
        "import io\n",
        "train = pd.read_csv(io.BytesIO(uploaded['train.csv']))\n",
        "test = pd.read_csv(io.BytesIO(uploaded['test.csv']))\n",
        "# check the number of features and data points in train\n",
        "print(\"Number of data points in train: %d\" % train.shape[0])\n",
        "print(\"Number of features in train: %d\" % train.shape[1])\n",
        "\n",
        "# check the number of features and data points in test\n",
        "print(\"Number of data points in test: %d\" % test.shape[0])\n",
        "print(\"Number of features in test: %d\" % test.shape[1])"
      ],
      "execution_count": 5,
      "outputs": [
        {
          "output_type": "stream",
          "text": [
            "Number of data points in train: 355\n",
            "Number of features in train: 99\n",
            "Number of data points in test: 119\n",
            "Number of features in test: 98\n"
          ],
          "name": "stdout"
        }
      ]
    },
    {
      "metadata": {
        "trusted": true,
        "_uuid": "07fdc1768d692f2b3fd6343cc06fa7052aafa75a",
        "id": "0KWlxa6YFuyw",
        "colab_type": "code",
        "colab": {}
      },
      "cell_type": "code",
      "source": [
        "def data_clean(data):\n",
        "    \n",
        "    # Let's first remove all missing value features\n",
        "    columns_to_remove = ['Also Known As','Applications','Audio Features','Bezel-less display'\n",
        "                         'Browser','Build Material','Co-Processor','Browser'\n",
        "                         'Display Colour','Mobile High-Definition Link(MHL)',\n",
        "                         'Music', 'Email','Fingerprint Sensor Position',\n",
        "                         'Games','HDMI','Heart Rate Monitor','IRIS Scanner', \n",
        "                         'Optical Image Stabilisation','Other Facilities',\n",
        "                         'Phone Book','Physical Aperture','Quick Charging',\n",
        "                         'Ring Tone','Ruggedness','SAR Value','SIM 3','SMS',\n",
        "                         'Screen Protection','Screen to Body Ratio (claimed by the brand)',\n",
        "                         'Sensor','Software Based Aperture', 'Special Features',\n",
        "                         'Standby time','Stylus','TalkTime', 'USB Type-C',\n",
        "                         'Video Player', 'Video Recording Features','Waterproof',\n",
        "                         'Wireless Charging','USB OTG Support', 'Video Recording','Java']\n",
        "\n",
        "    columns_to_retain = list(set(data.columns)-set(columns_to_remove))\n",
        "    data = data[columns_to_retain]\n",
        "\n",
        "    #Features having very low variance \n",
        "    columns_to_remove = ['Architecture','Audio Jack','GPS','Loudspeaker','Network','Network Support','VoLTE']\n",
        "    columns_to_retain = list(set(data.columns)-set(columns_to_remove))\n",
        "    data = data[columns_to_retain]\n",
        "\n",
        "    # Multivalued:\n",
        "    columns_to_remove = ['Architecture','Launch Date','Audio Jack','GPS','Loudspeaker','Network','Network Support','VoLTE', 'Custom UI']\n",
        "    columns_to_retain = list(set(data.columns)-set(columns_to_remove))\n",
        "    data = data[columns_to_retain]\n",
        "\n",
        "    # Not much important\n",
        "    columns_to_remove = ['Bluetooth', 'Settings','Wi-Fi','Wi-Fi Features']\n",
        "    columns_to_retain = list(set(data.columns)-set(columns_to_remove))\n",
        "    data = data[columns_to_retain]\n",
        "    \n",
        "    return data"
      ],
      "execution_count": 0,
      "outputs": []
    },
    {
      "metadata": {
        "_uuid": "d5e2fa5eaba5f2e53b72b616f8f51241f7bdc6e3",
        "id": "5qWTNgoQFuy6",
        "colab_type": "text"
      },
      "cell_type": "markdown",
      "source": [
        "# Removing features"
      ]
    },
    {
      "metadata": {
        "trusted": true,
        "_uuid": "01244e4323201ebe80e32e95cc4f161bacec1a78",
        "id": "BJ4sjBhxFuy9",
        "colab_type": "code",
        "colab": {}
      },
      "cell_type": "code",
      "source": [
        "train = data_clean(train)\n",
        "test = data_clean(test)"
      ],
      "execution_count": 0,
      "outputs": []
    },
    {
      "metadata": {
        "_uuid": "7bdff4e1b0982435b203518d3e85bb166209c3e3",
        "id": "DHArAAFOFuzH",
        "colab_type": "text"
      },
      "cell_type": "markdown",
      "source": [
        "removing all those data points in which more than 15 features are missing "
      ]
    },
    {
      "metadata": {
        "trusted": true,
        "_uuid": "f60f255ec9ac9813ca4a16c8c91b29bda9de22ad",
        "id": "O9fh0TOWFuzK",
        "colab_type": "code",
        "colab": {}
      },
      "cell_type": "code",
      "source": [
        "train = train[(train.isnull().sum(axis=1) <= 15)]\n",
        "# You shouldn't remove data points from test set\n",
        "#test = test[(test.isnull().sum(axis=1) <= 15)]"
      ],
      "execution_count": 0,
      "outputs": []
    },
    {
      "metadata": {
        "trusted": true,
        "_uuid": "717314531403858b3cf7547616f9b66d8f1297fe",
        "id": "ejfwMiRVFuzT",
        "colab_type": "code",
        "outputId": "75c80e3d-a87e-4b4e-b01c-e6c26153d7ac",
        "colab": {
          "base_uri": "https://localhost:8080/",
          "height": 87
        }
      },
      "cell_type": "code",
      "source": [
        "# check the number of features and data points in train\n",
        "print(\"Number of data points in train: %d\" % train.shape[0])\n",
        "print(\"Number of features in train: %d\" % train.shape[1])\n",
        "\n",
        "# check the number of features and data points in test\n",
        "print(\"Number of data points in test: %d\" % test.shape[0])\n",
        "print(\"Number of features in test: %d\" % test.shape[1])"
      ],
      "execution_count": 9,
      "outputs": [
        {
          "output_type": "stream",
          "text": [
            "Number of data points in train: 341\n",
            "Number of features in train: 47\n",
            "Number of data points in test: 119\n",
            "Number of features in test: 46\n"
          ],
          "name": "stdout"
        }
      ]
    },
    {
      "metadata": {
        "_uuid": "ba71d381784389b190d52b8569569b067d583fff",
        "id": "a8cyi_1SFuzi",
        "colab_type": "text"
      },
      "cell_type": "markdown",
      "source": [
        "# Filling Missing values"
      ]
    },
    {
      "metadata": {
        "trusted": true,
        "_uuid": "6d0100554ab816fc2b95be8760431fd16488aa25",
        "id": "bjmTO0m3Fuzl",
        "colab_type": "code",
        "colab": {}
      },
      "cell_type": "code",
      "source": [
        "def for_integer(test):\n",
        "    try:\n",
        "        test = test.strip()\n",
        "        return int(test.split(' ')[0])\n",
        "    except IOError:\n",
        "           pass\n",
        "    except ValueError:\n",
        "        pass\n",
        "    except:\n",
        "        pass\n",
        "\n",
        "def for_string(test):\n",
        "    try:\n",
        "        test = test.strip()\n",
        "        return (test.split(' ')[0])\n",
        "    except IOError:\n",
        "        pass\n",
        "    except ValueError:\n",
        "        pass\n",
        "    except:\n",
        "        pass\n",
        "\n",
        "def for_float(test):\n",
        "    try:\n",
        "        test = test.strip()\n",
        "        return float(test.split(' ')[0])\n",
        "    except IOError:\n",
        "        pass\n",
        "    except ValueError:\n",
        "        pass\n",
        "    except:\n",
        "        pass\n",
        "def find_freq(test):\n",
        "    try:\n",
        "        test = test.strip()\n",
        "        test = test.split(' ')\n",
        "        if test[2][0] == '(':\n",
        "            return float(test[2][1:])\n",
        "        return float(test[2])\n",
        "    except IOError:\n",
        "        pass\n",
        "    except ValueError:\n",
        "        pass\n",
        "    except:\n",
        "        pass\n",
        "\n",
        "    \n",
        "def for_Internal_Memory(test):\n",
        "    try:\n",
        "        test = test.strip()\n",
        "        test = test.split(' ')\n",
        "        if test[1] == 'GB':\n",
        "            return int(test[0])\n",
        "        if test[1] == 'MB':\n",
        "#             print(\"here\")\n",
        "            return (int(test[0]) * 0.001)\n",
        "    except IOError:\n",
        "           pass\n",
        "    except ValueError:\n",
        "        pass\n",
        "    except:\n",
        "        pass\n",
        "    \n",
        "def find_freq(test):\n",
        "    try:\n",
        "        test = test.strip()\n",
        "        test = test.split(' ')\n",
        "        if test[2][0] == '(':\n",
        "            return float(test[2][1:])\n",
        "        return float(test[2])\n",
        "    except IOError:\n",
        "        pass\n",
        "    except ValueError:\n",
        "        pass\n",
        "    except:\n",
        "        pass\n"
      ],
      "execution_count": 0,
      "outputs": []
    },
    {
      "metadata": {
        "trusted": true,
        "_uuid": "0604787ac58519f55591415a16c3784db28578a1",
        "id": "6T7Q_0f7Fuzs",
        "colab_type": "code",
        "colab": {}
      },
      "cell_type": "code",
      "source": [
        "def data_clean_2(x):\n",
        "    data = x.copy()\n",
        "    \n",
        "    data['Capacity'] = data['Capacity'].apply(for_integer)\n",
        "\n",
        "    data['Height'] = data['Height'].apply(for_float)\n",
        "    data['Height'] = data['Height'].fillna(data['Height'].mean())\n",
        "\n",
        "    data['Internal Memory'] = data['Internal Memory'].apply(for_Internal_Memory)\n",
        "\n",
        "    data['Pixel Density'] = data['Pixel Density'].apply(for_integer)\n",
        "\n",
        "    data['Internal Memory'] = data['Internal Memory'].fillna(data['Internal Memory'].median())\n",
        "    data['Internal Memory'] = data['Internal Memory'].astype(int)\n",
        "\n",
        "    data['RAM'] = data['RAM'].apply(for_integer)\n",
        "    data['RAM'] = data['RAM'].fillna(data['RAM'].median())\n",
        "    data['RAM'] = data['RAM'].astype(int)\n",
        "\n",
        "    data['Resolution'] = data['Resolution'].apply(for_integer)\n",
        "    data['Resolution'] = data['Resolution'].fillna(data['Resolution'].median())\n",
        "    data['Resolution'] = data['Resolution'].astype(int)\n",
        "\n",
        "    data['Screen Size'] = data['Screen Size'].apply(for_float)\n",
        "\n",
        "    data['Thickness'] = data['Thickness'].apply(for_float)\n",
        "    data['Thickness'] = data['Thickness'].fillna(data['Thickness'].mean())\n",
        "    data['Thickness'] = data['Thickness'].round(2)\n",
        "\n",
        "    data['Type'] = data['Type'].fillna('Li-Polymer')\n",
        "\n",
        "    data['Screen to Body Ratio (calculated)'] = data['Screen to Body Ratio (calculated)'].apply(for_float)\n",
        "    data['Screen to Body Ratio (calculated)'] = data['Screen to Body Ratio (calculated)'].fillna(data['Screen to Body Ratio (calculated)'].mean())\n",
        "    data['Screen to Body Ratio (calculated)'] = data['Screen to Body Ratio (calculated)'].round(2)\n",
        "\n",
        "    data['Width'] = data['Width'].apply(for_float)\n",
        "    data['Width'] = data['Width'].fillna(data['Width'].mean())\n",
        "    data['Width'] = data['Width'].round(2)\n",
        "\n",
        "    data['Flash'][data['Flash'].isna() == True] = \"Other\"\n",
        "\n",
        "    data['User Replaceable'][data['User Replaceable'].isna() == True] = \"Other\"\n",
        "\n",
        "    data['Num_cores'] = data['Processor'].apply(for_string)\n",
        "    data['Num_cores'][data['Num_cores'].isna() == True] = \"Other\"\n",
        "\n",
        "\n",
        "    data['Processor_frequency'] = data['Processor'].apply(find_freq)\n",
        "    #because there is one entry with 208MHz values, to convert it to GHz\n",
        "    data['Processor_frequency'][data['Processor_frequency'] > 200] = 0.208\n",
        "    data['Processor_frequency'] = data['Processor_frequency'].fillna(data['Processor_frequency'].mean())\n",
        "    data['Processor_frequency'] = data['Processor_frequency'].round(2)\n",
        "\n",
        "    data['Camera Features'][data['Camera Features'].isna() == True] = \"Other\"\n",
        "\n",
        "    #simplifyig Operating System to os_name for simplicity\n",
        "    data['os_name'] = data['Operating System'].apply(for_string)\n",
        "    data['os_name'][data['os_name'].isna() == True] = \"Other\"\n",
        "\n",
        "    data['Sim1'] = data['SIM 1'].apply(for_string)\n",
        "\n",
        "    data['SIM Size'][data['SIM Size'].isna() == True] = \"Other\"\n",
        "\n",
        "    data['Image Resolution'][data['Image Resolution'].isna() == True] = \"Other\"\n",
        "\n",
        "    data['Fingerprint Sensor'][data['Fingerprint Sensor'].isna() == True] = \"Other\"\n",
        "\n",
        "    data['Expandable Memory'][data['Expandable Memory'].isna() == True] = \"No\"\n",
        "\n",
        "    data['Weight'] = data['Weight'].apply(for_integer)\n",
        "    data['Weight'] = data['Weight'].fillna(data['Weight'].mean())\n",
        "    data['Weight'] = data['Weight'].astype(int)\n",
        "\n",
        "    data['SIM 2'] = data['SIM 2'].apply(for_string)\n",
        "    data['SIM 2'][data['SIM 2'].isna() == True] = \"Other\"\n",
        "    \n",
        "    return data"
      ],
      "execution_count": 0,
      "outputs": []
    },
    {
      "metadata": {
        "trusted": true,
        "_uuid": "0b4c6af881dc1a8b7d0f68a268a1a8b3826a8a5f",
        "id": "nziiZsADFuz1",
        "colab_type": "code",
        "outputId": "10d0ef20-7536-4aca-c78e-2ad0c7e0571d",
        "colab": {
          "base_uri": "https://localhost:8080/",
          "height": 87
        }
      },
      "cell_type": "code",
      "source": [
        "train = data_clean_2(train)\n",
        "test = data_clean_2(test)\n",
        "\n",
        "# check the number of features and data points in train\n",
        "print(\"Number of data points in train: %d\" % train.shape[0])\n",
        "print(\"Number of features in train: %d\" % train.shape[1])\n",
        "\n",
        "# check the number of features and data points in test\n",
        "print(\"Number of data points in test: %d\" % test.shape[0])\n",
        "print(\"Number of features in test: %d\" % test.shape[1])"
      ],
      "execution_count": 12,
      "outputs": [
        {
          "output_type": "stream",
          "text": [
            "Number of data points in train: 341\n",
            "Number of features in train: 51\n",
            "Number of data points in test: 119\n",
            "Number of features in test: 50\n"
          ],
          "name": "stdout"
        }
      ]
    },
    {
      "metadata": {
        "_uuid": "7a962af2a22fc3a0d150792fef3b06be8fdac5e7",
        "id": "FBicdjdNFuz-",
        "colab_type": "text"
      },
      "cell_type": "markdown",
      "source": [
        "Not very important feature"
      ]
    },
    {
      "metadata": {
        "trusted": true,
        "_uuid": "511c15fde9a81930cfec86c0545857ef01154862",
        "id": "3kLx_Aw_Fu0A",
        "colab_type": "code",
        "colab": {}
      },
      "cell_type": "code",
      "source": [
        "def data_clean_3(x):\n",
        "    \n",
        "    data = x.copy()\n",
        "\n",
        "    columns_to_remove = ['User Available Storage','SIM Size','Chipset','Processor','Autofocus','Aspect Ratio','Touch Screen',\n",
        "                        'Bezel-less display','Operating System','SIM 1','USB Connectivity','Other Sensors','Graphics','FM Radio',\n",
        "                        'NFC','Shooting Modes','Browser','Display Colour' ]\n",
        "\n",
        "    columns_to_retain = list(set(data.columns)-set(columns_to_remove))\n",
        "    data = data[columns_to_retain]\n",
        "\n",
        "\n",
        "    columns_to_remove = [ 'Screen Resolution','User Replaceable','Camera Features',\n",
        "                        'Thickness', 'Display Type']\n",
        "\n",
        "    columns_to_retain = list(set(data.columns)-set(columns_to_remove))\n",
        "    data = data[columns_to_retain]\n",
        "\n",
        "\n",
        "    columns_to_remove = ['Fingerprint Sensor', 'Flash', 'Rating Count', 'Review Count','Image Resolution','Type','Expandable Memory',\\\n",
        "                        'Colours','Width','Model']\n",
        "    columns_to_retain = list(set(data.columns)-set(columns_to_remove))\n",
        "    data = data[columns_to_retain]\n",
        "\n",
        "    return data"
      ],
      "execution_count": 0,
      "outputs": []
    },
    {
      "metadata": {
        "trusted": true,
        "_uuid": "75a2fe44ee2e739d01c5b3f4992ce61857b1dc22",
        "id": "WR56h4EUFu0H",
        "colab_type": "code",
        "outputId": "61f7c9cb-1618-47e1-e238-15502cf4c94b",
        "colab": {
          "base_uri": "https://localhost:8080/",
          "height": 87
        }
      },
      "cell_type": "code",
      "source": [
        "train = data_clean_3(train)\n",
        "test = data_clean_3(test)\n",
        "\n",
        "# check the number of features and data points in train\n",
        "print(\"Number of data points in train: %d\" % train.shape[0])\n",
        "print(\"Number of features in train: %d\" % train.shape[1])\n",
        "\n",
        "# check the number of features and data points in test\n",
        "print(\"Number of data points in test: %d\" % test.shape[0])\n",
        "print(\"Number of features in test: %d\" % test.shape[1])"
      ],
      "execution_count": 14,
      "outputs": [
        {
          "output_type": "stream",
          "text": [
            "Number of data points in train: 341\n",
            "Number of features in train: 18\n",
            "Number of data points in test: 119\n",
            "Number of features in test: 17\n"
          ],
          "name": "stdout"
        }
      ]
    },
    {
      "metadata": {
        "trusted": true,
        "_uuid": "ae9838cdc94196f7d42f9d62f18041d5979c612a",
        "id": "sZsM_6JJFu0R",
        "colab_type": "code",
        "outputId": "610e76f4-5051-4b8b-b072-d013cd08b609",
        "colab": {
          "base_uri": "https://localhost:8080/",
          "height": 567
        }
      },
      "cell_type": "code",
      "source": [
        "# one hot encoding\n",
        "\n",
        "train_ids = train['PhoneId']\n",
        "test_ids = test['PhoneId']\n",
        "\n",
        "cols = list(test.columns)\n",
        "cols.remove('PhoneId')\n",
        "cols.insert(0, 'PhoneId')\n",
        "\n",
        "combined = pd.concat([train.drop('Rating', axis=1)[cols], test[cols]])\n",
        "print(combined.shape)\n",
        "print(combined.columns)\n",
        "\n",
        "combined = pd.get_dummies(combined)\n",
        "print(combined.shape)\n",
        "print(combined.columns)\n",
        "\n",
        "train_new = combined[combined['PhoneId'].isin(train_ids)]\n",
        "test_new = combined[combined['PhoneId'].isin(test_ids)]"
      ],
      "execution_count": 15,
      "outputs": [
        {
          "output_type": "stream",
          "text": [
            "(460, 17)\n",
            "Index(['PhoneId', 'SIM 2', 'Height', 'Resolution', 'Capacity', 'Screen Size',\n",
            "       'RAM', 'Screen to Body Ratio (calculated)', 'Sim1',\n",
            "       'Processor_frequency', 'Num_cores', 'Brand', 'Pixel Density', 'os_name',\n",
            "       'SIM Slot(s)', 'Internal Memory', 'Weight'],\n",
            "      dtype='object')\n",
            "(460, 87)\n",
            "Index(['PhoneId', 'Height', 'Resolution', 'Capacity', 'Screen Size', 'RAM',\n",
            "       'Screen to Body Ratio (calculated)', 'Processor_frequency',\n",
            "       'Pixel Density', 'Internal Memory', 'Weight', 'SIM 2_2G', 'SIM 2_3G',\n",
            "       'SIM 2_4G', 'SIM 2_Other', 'Sim1_2G', 'Sim1_3G', 'Sim1_4G',\n",
            "       'Num_cores_312', 'Num_cores_Deca', 'Num_cores_Dual', 'Num_cores_Hexa',\n",
            "       'Num_cores_Octa', 'Num_cores_Other', 'Num_cores_Quad',\n",
            "       'Num_cores_Tru-Octa', 'Brand_10.or', 'Brand_Apple', 'Brand_Asus',\n",
            "       'Brand_Billion', 'Brand_Blackberry', 'Brand_Comio', 'Brand_Coolpad',\n",
            "       'Brand_Do', 'Brand_Gionee', 'Brand_Google', 'Brand_HTC', 'Brand_Honor',\n",
            "       'Brand_Huawei', 'Brand_InFocus', 'Brand_Infinix', 'Brand_Intex',\n",
            "       'Brand_Itel', 'Brand_Jivi', 'Brand_Karbonn', 'Brand_LG', 'Brand_Lava',\n",
            "       'Brand_LeEco', 'Brand_Lenovo', 'Brand_Lephone', 'Brand_Lyf',\n",
            "       'Brand_Meizu', 'Brand_Micromax', 'Brand_Mobiistar', 'Brand_Moto',\n",
            "       'Brand_Motorola', 'Brand_Nokia', 'Brand_Nubia', 'Brand_OPPO',\n",
            "       'Brand_OnePlus', 'Brand_Oppo', 'Brand_Panasonic', 'Brand_Razer',\n",
            "       'Brand_Realme', 'Brand_Reliance', 'Brand_Samsung', 'Brand_Sony',\n",
            "       'Brand_Spice', 'Brand_Tecno', 'Brand_Ulefone', 'Brand_VOTO',\n",
            "       'Brand_Vivo', 'Brand_Xiaomi', 'Brand_Xiaomi Poco', 'Brand_Yu',\n",
            "       'Brand_iVooMi', 'os_name_Android', 'os_name_Blackberry', 'os_name_KAI',\n",
            "       'os_name_Nokia', 'os_name_Other', 'os_name_Tizen', 'os_name_iOS',\n",
            "       'SIM Slot(s)_Dual SIM, GSM+CDMA', 'SIM Slot(s)_Dual SIM, GSM+GSM',\n",
            "       'SIM Slot(s)_Dual SIM, GSM+GSM, Dual VoLTE',\n",
            "       'SIM Slot(s)_Single SIM, GSM'],\n",
            "      dtype='object')\n"
          ],
          "name": "stdout"
        }
      ]
    },
    {
      "metadata": {
        "trusted": true,
        "_uuid": "7d550d1c3d287051af261c28f24dc57cbb673f70",
        "id": "qtZOblbtFu0c",
        "colab_type": "code",
        "colab": {}
      },
      "cell_type": "code",
      "source": [
        "train_new = train_new.merge(train[['PhoneId', 'Rating']], on='PhoneId')"
      ],
      "execution_count": 0,
      "outputs": []
    },
    {
      "metadata": {
        "trusted": true,
        "_uuid": "6e325f2e8fe50d8981d3fae2e24d09419dcede7f",
        "id": "9bxv_WvIFu0n",
        "colab_type": "code",
        "outputId": "8a07079e-2a8a-4d68-e468-0eba9983ba2e",
        "colab": {
          "base_uri": "https://localhost:8080/",
          "height": 87
        }
      },
      "cell_type": "code",
      "source": [
        "# check the number of features and data points in train\n",
        "print(\"Number of data points in train: %d\" % train_new.shape[0])\n",
        "print(\"Number of features in train: %d\" % train_new.shape[1])\n",
        "\n",
        "# check the number of features and data points in test\n",
        "print(\"Number of data points in test: %d\" % test_new.shape[0])\n",
        "print(\"Number of features in test: %d\" % test_new.shape[1])"
      ],
      "execution_count": 17,
      "outputs": [
        {
          "output_type": "stream",
          "text": [
            "Number of data points in train: 341\n",
            "Number of features in train: 88\n",
            "Number of data points in test: 119\n",
            "Number of features in test: 87\n"
          ],
          "name": "stdout"
        }
      ]
    },
    {
      "metadata": {
        "trusted": true,
        "_uuid": "56105dbb5eb884e0e64275d3907025227ab66fd0",
        "id": "aN8bR5G_Fu06",
        "colab_type": "code",
        "outputId": "8161fce6-0f9f-4225-a8f3-c7262103ebbf",
        "colab": {
          "base_uri": "https://localhost:8080/",
          "height": 313
        }
      },
      "cell_type": "code",
      "source": [
        "train_new.head()"
      ],
      "execution_count": 18,
      "outputs": [
        {
          "output_type": "execute_result",
          "data": {
            "text/html": [
              "<div>\n",
              "<style scoped>\n",
              "    .dataframe tbody tr th:only-of-type {\n",
              "        vertical-align: middle;\n",
              "    }\n",
              "\n",
              "    .dataframe tbody tr th {\n",
              "        vertical-align: top;\n",
              "    }\n",
              "\n",
              "    .dataframe thead th {\n",
              "        text-align: right;\n",
              "    }\n",
              "</style>\n",
              "<table border=\"1\" class=\"dataframe\">\n",
              "  <thead>\n",
              "    <tr style=\"text-align: right;\">\n",
              "      <th></th>\n",
              "      <th>PhoneId</th>\n",
              "      <th>Height</th>\n",
              "      <th>Resolution</th>\n",
              "      <th>Capacity</th>\n",
              "      <th>Screen Size</th>\n",
              "      <th>RAM</th>\n",
              "      <th>Screen to Body Ratio (calculated)</th>\n",
              "      <th>Processor_frequency</th>\n",
              "      <th>Pixel Density</th>\n",
              "      <th>Internal Memory</th>\n",
              "      <th>...</th>\n",
              "      <th>os_name_KAI</th>\n",
              "      <th>os_name_Nokia</th>\n",
              "      <th>os_name_Other</th>\n",
              "      <th>os_name_Tizen</th>\n",
              "      <th>os_name_iOS</th>\n",
              "      <th>SIM Slot(s)_Dual SIM, GSM+CDMA</th>\n",
              "      <th>SIM Slot(s)_Dual SIM, GSM+GSM</th>\n",
              "      <th>SIM Slot(s)_Dual SIM, GSM+GSM, Dual VoLTE</th>\n",
              "      <th>SIM Slot(s)_Single SIM, GSM</th>\n",
              "      <th>Rating</th>\n",
              "    </tr>\n",
              "  </thead>\n",
              "  <tbody>\n",
              "    <tr>\n",
              "      <th>0</th>\n",
              "      <td>0</td>\n",
              "      <td>157.9</td>\n",
              "      <td>20</td>\n",
              "      <td>4000</td>\n",
              "      <td>6.26</td>\n",
              "      <td>4</td>\n",
              "      <td>80.68</td>\n",
              "      <td>1.8</td>\n",
              "      <td>403</td>\n",
              "      <td>64</td>\n",
              "      <td>...</td>\n",
              "      <td>0</td>\n",
              "      <td>0</td>\n",
              "      <td>0</td>\n",
              "      <td>0</td>\n",
              "      <td>0</td>\n",
              "      <td>0</td>\n",
              "      <td>0</td>\n",
              "      <td>1</td>\n",
              "      <td>0</td>\n",
              "      <td>4.5</td>\n",
              "    </tr>\n",
              "    <tr>\n",
              "      <th>1</th>\n",
              "      <td>1</td>\n",
              "      <td>156.2</td>\n",
              "      <td>8</td>\n",
              "      <td>4230</td>\n",
              "      <td>6.20</td>\n",
              "      <td>3</td>\n",
              "      <td>80.85</td>\n",
              "      <td>1.8</td>\n",
              "      <td>271</td>\n",
              "      <td>32</td>\n",
              "      <td>...</td>\n",
              "      <td>0</td>\n",
              "      <td>0</td>\n",
              "      <td>0</td>\n",
              "      <td>0</td>\n",
              "      <td>0</td>\n",
              "      <td>0</td>\n",
              "      <td>0</td>\n",
              "      <td>1</td>\n",
              "      <td>0</td>\n",
              "      <td>4.5</td>\n",
              "    </tr>\n",
              "    <tr>\n",
              "      <th>2</th>\n",
              "      <td>2</td>\n",
              "      <td>157.0</td>\n",
              "      <td>25</td>\n",
              "      <td>3500</td>\n",
              "      <td>6.30</td>\n",
              "      <td>3</td>\n",
              "      <td>83.68</td>\n",
              "      <td>2.1</td>\n",
              "      <td>409</td>\n",
              "      <td>32</td>\n",
              "      <td>...</td>\n",
              "      <td>0</td>\n",
              "      <td>0</td>\n",
              "      <td>0</td>\n",
              "      <td>0</td>\n",
              "      <td>0</td>\n",
              "      <td>0</td>\n",
              "      <td>0</td>\n",
              "      <td>1</td>\n",
              "      <td>0</td>\n",
              "      <td>4.4</td>\n",
              "    </tr>\n",
              "    <tr>\n",
              "      <th>3</th>\n",
              "      <td>4</td>\n",
              "      <td>159.8</td>\n",
              "      <td>24</td>\n",
              "      <td>3300</td>\n",
              "      <td>6.00</td>\n",
              "      <td>4</td>\n",
              "      <td>74.78</td>\n",
              "      <td>2.2</td>\n",
              "      <td>411</td>\n",
              "      <td>64</td>\n",
              "      <td>...</td>\n",
              "      <td>0</td>\n",
              "      <td>0</td>\n",
              "      <td>0</td>\n",
              "      <td>0</td>\n",
              "      <td>0</td>\n",
              "      <td>0</td>\n",
              "      <td>1</td>\n",
              "      <td>0</td>\n",
              "      <td>0</td>\n",
              "      <td>4.3</td>\n",
              "    </tr>\n",
              "    <tr>\n",
              "      <th>4</th>\n",
              "      <td>5</td>\n",
              "      <td>160.4</td>\n",
              "      <td>16</td>\n",
              "      <td>3750</td>\n",
              "      <td>6.50</td>\n",
              "      <td>4</td>\n",
              "      <td>84.23</td>\n",
              "      <td>2.2</td>\n",
              "      <td>396</td>\n",
              "      <td>64</td>\n",
              "      <td>...</td>\n",
              "      <td>0</td>\n",
              "      <td>0</td>\n",
              "      <td>0</td>\n",
              "      <td>0</td>\n",
              "      <td>0</td>\n",
              "      <td>0</td>\n",
              "      <td>0</td>\n",
              "      <td>1</td>\n",
              "      <td>0</td>\n",
              "      <td>4.4</td>\n",
              "    </tr>\n",
              "  </tbody>\n",
              "</table>\n",
              "<p>5 rows × 88 columns</p>\n",
              "</div>"
            ],
            "text/plain": [
              "   PhoneId  Height  Resolution  Capacity  Screen Size  RAM  \\\n",
              "0        0   157.9          20      4000         6.26    4   \n",
              "1        1   156.2           8      4230         6.20    3   \n",
              "2        2   157.0          25      3500         6.30    3   \n",
              "3        4   159.8          24      3300         6.00    4   \n",
              "4        5   160.4          16      3750         6.50    4   \n",
              "\n",
              "   Screen to Body Ratio (calculated)  Processor_frequency  Pixel Density  \\\n",
              "0                              80.68                  1.8            403   \n",
              "1                              80.85                  1.8            271   \n",
              "2                              83.68                  2.1            409   \n",
              "3                              74.78                  2.2            411   \n",
              "4                              84.23                  2.2            396   \n",
              "\n",
              "   Internal Memory   ...    os_name_KAI  os_name_Nokia  os_name_Other  \\\n",
              "0               64   ...              0              0              0   \n",
              "1               32   ...              0              0              0   \n",
              "2               32   ...              0              0              0   \n",
              "3               64   ...              0              0              0   \n",
              "4               64   ...              0              0              0   \n",
              "\n",
              "   os_name_Tizen  os_name_iOS  SIM Slot(s)_Dual SIM, GSM+CDMA  \\\n",
              "0              0            0                               0   \n",
              "1              0            0                               0   \n",
              "2              0            0                               0   \n",
              "3              0            0                               0   \n",
              "4              0            0                               0   \n",
              "\n",
              "   SIM Slot(s)_Dual SIM, GSM+GSM  SIM Slot(s)_Dual SIM, GSM+GSM, Dual VoLTE  \\\n",
              "0                              0                                          1   \n",
              "1                              0                                          1   \n",
              "2                              0                                          1   \n",
              "3                              1                                          0   \n",
              "4                              0                                          1   \n",
              "\n",
              "   SIM Slot(s)_Single SIM, GSM  Rating  \n",
              "0                            0     4.5  \n",
              "1                            0     4.5  \n",
              "2                            0     4.4  \n",
              "3                            0     4.3  \n",
              "4                            0     4.4  \n",
              "\n",
              "[5 rows x 88 columns]"
            ]
          },
          "metadata": {
            "tags": []
          },
          "execution_count": 18
        }
      ]
    },
    {
      "metadata": {
        "trusted": true,
        "_uuid": "1fda19056f97b8b226fc7a924626cdf7b2d8bfd4",
        "id": "jpgd23MOFu1M",
        "colab_type": "code",
        "outputId": "59a6fed9-3a50-4a56-b7b2-56ded5e62c1f",
        "colab": {
          "base_uri": "https://localhost:8080/",
          "height": 313
        }
      },
      "cell_type": "code",
      "source": [
        "test_new.head()"
      ],
      "execution_count": 19,
      "outputs": [
        {
          "output_type": "execute_result",
          "data": {
            "text/html": [
              "<div>\n",
              "<style scoped>\n",
              "    .dataframe tbody tr th:only-of-type {\n",
              "        vertical-align: middle;\n",
              "    }\n",
              "\n",
              "    .dataframe tbody tr th {\n",
              "        vertical-align: top;\n",
              "    }\n",
              "\n",
              "    .dataframe thead th {\n",
              "        text-align: right;\n",
              "    }\n",
              "</style>\n",
              "<table border=\"1\" class=\"dataframe\">\n",
              "  <thead>\n",
              "    <tr style=\"text-align: right;\">\n",
              "      <th></th>\n",
              "      <th>PhoneId</th>\n",
              "      <th>Height</th>\n",
              "      <th>Resolution</th>\n",
              "      <th>Capacity</th>\n",
              "      <th>Screen Size</th>\n",
              "      <th>RAM</th>\n",
              "      <th>Screen to Body Ratio (calculated)</th>\n",
              "      <th>Processor_frequency</th>\n",
              "      <th>Pixel Density</th>\n",
              "      <th>Internal Memory</th>\n",
              "      <th>...</th>\n",
              "      <th>os_name_Blackberry</th>\n",
              "      <th>os_name_KAI</th>\n",
              "      <th>os_name_Nokia</th>\n",
              "      <th>os_name_Other</th>\n",
              "      <th>os_name_Tizen</th>\n",
              "      <th>os_name_iOS</th>\n",
              "      <th>SIM Slot(s)_Dual SIM, GSM+CDMA</th>\n",
              "      <th>SIM Slot(s)_Dual SIM, GSM+GSM</th>\n",
              "      <th>SIM Slot(s)_Dual SIM, GSM+GSM, Dual VoLTE</th>\n",
              "      <th>SIM Slot(s)_Single SIM, GSM</th>\n",
              "    </tr>\n",
              "  </thead>\n",
              "  <tbody>\n",
              "    <tr>\n",
              "      <th>0</th>\n",
              "      <td>3</td>\n",
              "      <td>156.2</td>\n",
              "      <td>5</td>\n",
              "      <td>4230</td>\n",
              "      <td>6.20</td>\n",
              "      <td>2</td>\n",
              "      <td>80.85</td>\n",
              "      <td>1.8</td>\n",
              "      <td>271</td>\n",
              "      <td>16</td>\n",
              "      <td>...</td>\n",
              "      <td>0</td>\n",
              "      <td>0</td>\n",
              "      <td>0</td>\n",
              "      <td>0</td>\n",
              "      <td>0</td>\n",
              "      <td>0</td>\n",
              "      <td>0</td>\n",
              "      <td>0</td>\n",
              "      <td>1</td>\n",
              "      <td>0</td>\n",
              "    </tr>\n",
              "    <tr>\n",
              "      <th>1</th>\n",
              "      <td>11</td>\n",
              "      <td>156.0</td>\n",
              "      <td>12</td>\n",
              "      <td>5000</td>\n",
              "      <td>6.20</td>\n",
              "      <td>4</td>\n",
              "      <td>81.60</td>\n",
              "      <td>1.8</td>\n",
              "      <td>402</td>\n",
              "      <td>64</td>\n",
              "      <td>...</td>\n",
              "      <td>0</td>\n",
              "      <td>0</td>\n",
              "      <td>0</td>\n",
              "      <td>0</td>\n",
              "      <td>0</td>\n",
              "      <td>0</td>\n",
              "      <td>0</td>\n",
              "      <td>0</td>\n",
              "      <td>1</td>\n",
              "      <td>0</td>\n",
              "    </tr>\n",
              "    <tr>\n",
              "      <th>2</th>\n",
              "      <td>13</td>\n",
              "      <td>156.7</td>\n",
              "      <td>25</td>\n",
              "      <td>3500</td>\n",
              "      <td>6.30</td>\n",
              "      <td>6</td>\n",
              "      <td>83.84</td>\n",
              "      <td>2.0</td>\n",
              "      <td>409</td>\n",
              "      <td>64</td>\n",
              "      <td>...</td>\n",
              "      <td>0</td>\n",
              "      <td>0</td>\n",
              "      <td>0</td>\n",
              "      <td>0</td>\n",
              "      <td>0</td>\n",
              "      <td>0</td>\n",
              "      <td>0</td>\n",
              "      <td>0</td>\n",
              "      <td>1</td>\n",
              "      <td>0</td>\n",
              "    </tr>\n",
              "    <tr>\n",
              "      <th>3</th>\n",
              "      <td>16</td>\n",
              "      <td>156.7</td>\n",
              "      <td>16</td>\n",
              "      <td>3500</td>\n",
              "      <td>6.30</td>\n",
              "      <td>4</td>\n",
              "      <td>83.84</td>\n",
              "      <td>2.0</td>\n",
              "      <td>409</td>\n",
              "      <td>64</td>\n",
              "      <td>...</td>\n",
              "      <td>0</td>\n",
              "      <td>0</td>\n",
              "      <td>0</td>\n",
              "      <td>0</td>\n",
              "      <td>0</td>\n",
              "      <td>0</td>\n",
              "      <td>0</td>\n",
              "      <td>0</td>\n",
              "      <td>1</td>\n",
              "      <td>0</td>\n",
              "    </tr>\n",
              "    <tr>\n",
              "      <th>4</th>\n",
              "      <td>19</td>\n",
              "      <td>158.6</td>\n",
              "      <td>20</td>\n",
              "      <td>4000</td>\n",
              "      <td>5.99</td>\n",
              "      <td>4</td>\n",
              "      <td>77.43</td>\n",
              "      <td>1.8</td>\n",
              "      <td>403</td>\n",
              "      <td>64</td>\n",
              "      <td>...</td>\n",
              "      <td>0</td>\n",
              "      <td>0</td>\n",
              "      <td>0</td>\n",
              "      <td>0</td>\n",
              "      <td>0</td>\n",
              "      <td>0</td>\n",
              "      <td>0</td>\n",
              "      <td>0</td>\n",
              "      <td>1</td>\n",
              "      <td>0</td>\n",
              "    </tr>\n",
              "  </tbody>\n",
              "</table>\n",
              "<p>5 rows × 87 columns</p>\n",
              "</div>"
            ],
            "text/plain": [
              "   PhoneId  Height  Resolution  Capacity  Screen Size  RAM  \\\n",
              "0        3   156.2           5      4230         6.20    2   \n",
              "1       11   156.0          12      5000         6.20    4   \n",
              "2       13   156.7          25      3500         6.30    6   \n",
              "3       16   156.7          16      3500         6.30    4   \n",
              "4       19   158.6          20      4000         5.99    4   \n",
              "\n",
              "   Screen to Body Ratio (calculated)  Processor_frequency  Pixel Density  \\\n",
              "0                              80.85                  1.8            271   \n",
              "1                              81.60                  1.8            402   \n",
              "2                              83.84                  2.0            409   \n",
              "3                              83.84                  2.0            409   \n",
              "4                              77.43                  1.8            403   \n",
              "\n",
              "   Internal Memory             ...               os_name_Blackberry  \\\n",
              "0               16             ...                                0   \n",
              "1               64             ...                                0   \n",
              "2               64             ...                                0   \n",
              "3               64             ...                                0   \n",
              "4               64             ...                                0   \n",
              "\n",
              "   os_name_KAI  os_name_Nokia  os_name_Other  os_name_Tizen  os_name_iOS  \\\n",
              "0            0              0              0              0            0   \n",
              "1            0              0              0              0            0   \n",
              "2            0              0              0              0            0   \n",
              "3            0              0              0              0            0   \n",
              "4            0              0              0              0            0   \n",
              "\n",
              "   SIM Slot(s)_Dual SIM, GSM+CDMA  SIM Slot(s)_Dual SIM, GSM+GSM  \\\n",
              "0                               0                              0   \n",
              "1                               0                              0   \n",
              "2                               0                              0   \n",
              "3                               0                              0   \n",
              "4                               0                              0   \n",
              "\n",
              "   SIM Slot(s)_Dual SIM, GSM+GSM, Dual VoLTE  SIM Slot(s)_Single SIM, GSM  \n",
              "0                                          1                            0  \n",
              "1                                          1                            0  \n",
              "2                                          1                            0  \n",
              "3                                          1                            0  \n",
              "4                                          1                            0  \n",
              "\n",
              "[5 rows x 87 columns]"
            ]
          },
          "metadata": {
            "tags": []
          },
          "execution_count": 19
        }
      ]
    },
    {
      "metadata": {
        "_uuid": "5891895fcb36bf3d7ab04c4bd8b963d4b4396e46",
        "id": "d-5IAxWeFu1b",
        "colab_type": "text"
      },
      "cell_type": "markdown",
      "source": [
        "##  **Train test split**"
      ]
    },
    {
      "metadata": {
        "trusted": true,
        "_uuid": "9bda0fb9bfdbda7063d22e9d896b914be1003990",
        "id": "D04CvIwYFu1e",
        "colab_type": "code",
        "colab": {}
      },
      "cell_type": "code",
      "source": [
        "from sklearn.model_selection import train_test_split"
      ],
      "execution_count": 0,
      "outputs": []
    },
    {
      "metadata": {
        "trusted": true,
        "_uuid": "154a9d6eec134e7b77767bf097f803ebf1dbe7df",
        "id": "AWvGx2BaFu1v",
        "colab_type": "code",
        "colab": {}
      },
      "cell_type": "code",
      "source": [
        "X=train_new.drop('Rating',axis=1)\n",
        "X=X.drop('PhoneId',axis=1)\n",
        "Y=train_new['Rating']"
      ],
      "execution_count": 0,
      "outputs": []
    },
    {
      "metadata": {
        "_uuid": "935d9e56fb62e71c9e2fd3ebed2d6447f29a13c2",
        "id": "fBgS_o3GFu2C",
        "colab_type": "text"
      },
      "cell_type": "markdown",
      "source": [
        "**Binarisation of Ratings column**"
      ]
    },
    {
      "metadata": {
        "trusted": true,
        "_uuid": "54b7d321a5d706d8bfba5aa28ce97b8dcd27c0c2",
        "id": "zp9-LTieFu2F",
        "colab_type": "code",
        "colab": {}
      },
      "cell_type": "code",
      "source": [
        "Y=pd.DataFrame(Y)\n",
        "Y.loc[Y['Rating'] < 4.0, ['Rating']] =0\n",
        "Y.loc[Y['Rating'] >=4.0,['Rating']] = 1"
      ],
      "execution_count": 0,
      "outputs": []
    },
    {
      "metadata": {
        "trusted": true,
        "_uuid": "91d4906507260d4a0316f0417a97b25cb47e33c7",
        "id": "YCsUM5gHFu2X",
        "colab_type": "code",
        "colab": {}
      },
      "cell_type": "code",
      "source": [
        "Y=Y.values#converting the binarised ratings values into arrays for running the model"
      ],
      "execution_count": 0,
      "outputs": []
    },
    {
      "metadata": {
        "trusted": true,
        "_uuid": "09105c2883ea544715dea0fca5c8b163d427421e",
        "id": "AirDw9FeFu2h",
        "colab_type": "code",
        "colab": {}
      },
      "cell_type": "code",
      "source": [
        "X_train,X_test,Y_train, Y_test=train_test_split(X,Y,train_size=0.77,random_state=13,stratify=Y)"
      ],
      "execution_count": 0,
      "outputs": []
    },
    {
      "metadata": {
        "_uuid": "4191c8a219b374f7d796efbb0079488386071ba3",
        "id": "JEGQ2RtJFu2p",
        "colab_type": "text"
      },
      "cell_type": "markdown",
      "source": [
        "##  **Binarisation of Input**"
      ]
    },
    {
      "metadata": {
        "trusted": true,
        "_uuid": "3716647c6f4e25abc9bda270bc669e8d68ba08c7",
        "id": "J02Xy8y2Fu2w",
        "colab_type": "code",
        "colab": {}
      },
      "cell_type": "code",
      "source": [
        "X_train = X_train.values\n",
        "X_test = X_test.values"
      ],
      "execution_count": 0,
      "outputs": []
    },
    {
      "metadata": {
        "_uuid": "19aaf8608662eaef4c37bbe508aebc45fee2b71d",
        "id": "ghWe8sxtFu24",
        "colab_type": "text"
      },
      "cell_type": "markdown",
      "source": [
        "## **The Model**"
      ]
    },
    {
      "metadata": {
        "trusted": true,
        "_uuid": "74f604ace5ad3f43ab24167ed55dfc7597c1d9af",
        "id": "VUyqX4MSFu28",
        "colab_type": "code",
        "colab": {}
      },
      "cell_type": "code",
      "source": [
        "class Perceptron:\n",
        "  \n",
        "  def __init__ (self):\n",
        "    self.w = None\n",
        "    self.b = None\n",
        "    \n",
        "  def model(self, x):\n",
        "    return 1 if (np.dot(self.w, x) >= self.b) else 0\n",
        "    \n",
        "  def predict(self, X):\n",
        "    Y = []\n",
        "    for x in X:\n",
        "      result = self.model(x)\n",
        "      Y.append(result)\n",
        "    return np.array(Y)\n",
        "    \n",
        "  def fit(self, X, Y, epochs = 1, lr = 1):\n",
        "    \n",
        "    self.w = np.ones(X.shape[1])\n",
        "    self.b = 0\n",
        "    \n",
        "    accuracy = {}\n",
        "    max_accuracy = 0\n",
        "    \n",
        "    wt_matrix = []\n",
        "    \n",
        "    for i in range(epochs):\n",
        "      if(i in [100,500,800,1000,1500,2000,4000,5000,6500,7000,9000,10000,12000,13000,14000,15000,16000,17000,18000,19000,19500]):\n",
        "          print(\"Current Epoch:\",i)\n",
        "      for x, y in zip(X, Y):\n",
        "        y_pred = self.model(x)\n",
        "        if y == 1 and y_pred == 0:\n",
        "          self.w = self.w + lr * x\n",
        "          self.b = self.b - lr * 1\n",
        "        elif y == 0 and y_pred == 1:\n",
        "          self.w = self.w - lr * x\n",
        "          self.b = self.b + lr * 1\n",
        "          \n",
        "      wt_matrix.append(self.w)    \n",
        "          \n",
        "      accuracy[i] = accuracy_score(self.predict(X), Y)\n",
        "      if (accuracy[i] > max_accuracy):\n",
        "        max_accuracy = accuracy[i]\n",
        "        chkptw = self.w\n",
        "        chkptb = self.b\n",
        "        \n",
        "    self.w = chkptw\n",
        "    self.b = chkptb\n",
        "        \n",
        "    print(max_accuracy)\n",
        "    \n",
        "    plt.plot(accuracy.values())\n",
        "    plt.ylim([0, 1])\n",
        "    plt.show()\n",
        "    \n",
        "    return np.array(wt_matrix)"
      ],
      "execution_count": 0,
      "outputs": []
    },
    {
      "metadata": {
        "trusted": true,
        "_uuid": "47e2b8c1a02072ddd83b3579555a3416debabe0a",
        "id": "3TYHbX_iFu3E",
        "colab_type": "code",
        "colab": {}
      },
      "cell_type": "code",
      "source": [
        "import time"
      ],
      "execution_count": 0,
      "outputs": []
    },
    {
      "metadata": {
        "trusted": true,
        "_uuid": "70638b284438fdd7bf1ce036a3bcef2536e0ea28",
        "id": "hUZrgQerFu3Q",
        "colab_type": "code",
        "colab": {}
      },
      "cell_type": "code",
      "source": [
        "perceptron = Perceptron()"
      ],
      "execution_count": 0,
      "outputs": []
    },
    {
      "metadata": {
        "id": "yF9cOt84Np7J",
        "colab_type": "code",
        "colab": {}
      },
      "cell_type": "code",
      "source": [
        "%matplotlib inline"
      ],
      "execution_count": 0,
      "outputs": []
    },
    {
      "metadata": {
        "trusted": true,
        "_uuid": "fbc8e74785b3fef9ba9efc5b54ad694e25bc441d",
        "id": "cy3n2rRrFu3X",
        "colab_type": "code",
        "outputId": "6538fd78-296e-42e2-d7b1-974e3411fc36",
        "colab": {
          "base_uri": "https://localhost:8080/",
          "height": 826
        }
      },
      "cell_type": "code",
      "source": [
        "plt.rcParams['figure.figsize']=(20,10)\n",
        "tic=time.time()\n",
        "#wt_matrix = perceptron.fit(X_train, Y_train, 100000, 0.00001)\n",
        "wt_matrix = perceptron.fit(X_train, Y_train, 10000, 0.00001)                         \n",
        "toc=time.time()\n",
        "print('Time elapsed',toc-tic)"
      ],
      "execution_count": 0,
      "outputs": [
        {
          "output_type": "stream",
          "text": [
            "Current Epoch: 100\n",
            "Current Epoch: 500\n",
            "Current Epoch: 800\n",
            "Current Epoch: 1000\n",
            "Current Epoch: 1500\n",
            "Current Epoch: 2000\n",
            "Current Epoch: 4000\n",
            "Current Epoch: 5000\n",
            "Current Epoch: 6500\n",
            "Current Epoch: 7000\n",
            "Current Epoch: 9000\n",
            "0.7404580152671756\n"
          ],
          "name": "stdout"
        },
        {
          "output_type": "display_data",
          "data": {
            "image/png": "[encoded data removed]",
            "text/plain": [
              "<Figure size 1440x720 with 1 Axes>"
            ]
          },
          "metadata": {
            "tags": []
          }
        },
        {
          "output_type": "stream",
          "text": [
            "Time elapsed 18.99417734146118\n"
          ],
          "name": "stdout"
        }
      ]
    },
    {
      "metadata": {
        "trusted": true,
        "_uuid": "ccc9e138e510b70875333b1a018a93c355b2f2ed",
        "id": "0n1q8Cr2Fu3k",
        "colab_type": "code",
        "outputId": "2740e96f-34fe-4ab3-ff23-5cc3922f369b",
        "colab": {
          "base_uri": "https://localhost:8080/",
          "height": 34
        }
      },
      "cell_type": "code",
      "source": [
        "Y_pred_test = perceptron.predict(X_test)\n",
        "print(accuracy_score(Y_pred_test, Y_test))"
      ],
      "execution_count": 0,
      "outputs": [
        {
          "output_type": "stream",
          "text": [
            "0.7848101265822784\n"
          ],
          "name": "stdout"
        }
      ]
    },
    {
      "metadata": {
        "trusted": true,
        "_uuid": "3f5a4be2d2905f8e80424511c42cd19d61a6045f",
        "id": "aGr5quuVFu3v",
        "colab_type": "code",
        "outputId": "a3780aa8-f9f4-419c-e9de-70448104d8d4",
        "colab": {
          "base_uri": "https://localhost:8080/",
          "height": 592
        }
      },
      "cell_type": "code",
      "source": [
        "plt.rcParams['figure.figsize']=(20,10)\n",
        "plt.plot(wt_matrix[-1,:])\n",
        "plt.show()"
      ],
      "execution_count": 0,
      "outputs": [
        {
          "output_type": "display_data",
          "data": {
            "image/png": "[encoded data removed]",
            "text/plain": [
              "<Figure size 1440x720 with 1 Axes>"
            ]
          },
          "metadata": {
            "tags": []
          }
        }
      ]
    },
    {
      "metadata": {
        "trusted": true,
        "_uuid": "be4f499c3117fa95297dd4099c8e9df755e93807",
        "id": "V-FMP37oFu34",
        "colab_type": "code",
        "colab": {}
      },
      "cell_type": "code",
      "source": [
        "%matplotlib inline\n",
        "from matplotlib import animation, rc\n",
        "from IPython.display import HTML"
      ],
      "execution_count": 0,
      "outputs": []
    },
    {
      "metadata": {
        "trusted": true,
        "_uuid": "aad55af84d26d3bcd5806505217d74ef85814660",
        "id": "Txbx9rm0Fu39",
        "colab_type": "code",
        "outputId": "46e82e7c-271c-4926-a7bf-b39bafb33089",
        "colab": {
          "base_uri": "https://localhost:8080/",
          "height": 595
        }
      },
      "cell_type": "code",
      "source": [
        "# First set up the figure, the axis, and the plot element we want to animate\n",
        "plt.rcParams['figure.figsize']=(20,10)\n",
        "fig, ax = plt.subplots()\n",
        "\n",
        "ax.set_xlim(( 0, wt_matrix.shape[1]))\n",
        "ax.set_ylim((-1, 3))\n",
        "\n",
        "line, = ax.plot([], [], lw=2)"
      ],
      "execution_count": 0,
      "outputs": [
        {
          "output_type": "display_data",
          "data": {
            "image/png": "[encoded data removed]",
            "text/plain": [
              "<Figure size 1440x720 with 1 Axes>"
            ]
          },
          "metadata": {
            "tags": []
          }
        }
      ]
    },
    {
      "metadata": {
        "trusted": true,
        "_uuid": "dbbfc39f591ec6ea731f6f786bf501ec836fa86b",
        "id": "46OGjO8WFu4F",
        "colab_type": "code",
        "colab": {}
      },
      "cell_type": "code",
      "source": [
        "# animation function. This is called sequentially\n",
        "def animate(i):\n",
        "    x = list(range(wt_matrix.shape[1]))\n",
        "    y = wt_matrix[i, :]\n",
        "    line.set_data(x, y)\n",
        "    return (line,)"
      ],
      "execution_count": 0,
      "outputs": []
    },
    {
      "metadata": {
        "trusted": true,
        "_uuid": "2cb6e14aa26db1b95ecfc4344a9bda4c577331a5",
        "id": "G4Yft22TFu4L",
        "colab_type": "code",
        "outputId": "e8f0d3e8-b0e6-4890-b5be-4c5e42154e20",
        "colab": {
          "base_uri": "https://localhost:8080/",
          "height": 34
        }
      },
      "cell_type": "code",
      "source": [
        "# call the animator. blit=True means only re-draw the parts that have changed.\n",
        "tic=time.time()\n",
        "anim = animation.FuncAnimation(fig, animate, frames=100, interval=200, blit=True)\n",
        "toc=time.time()\n",
        "print('Time_elapsed',toc-tic)"
      ],
      "execution_count": 0,
      "outputs": [
        {
          "output_type": "stream",
          "text": [
            "Time_elapsed 0.054369449615478516\n"
          ],
          "name": "stdout"
        }
      ]
    },
    {
      "metadata": {
        "id": "Qwj9pcidhbju",
        "colab_type": "code",
        "outputId": "049d84e7-f0d8-4366-c575-568de5057119",
        "colab": {
          "base_uri": "https://localhost:8080/",
          "height": 308
        }
      },
      "cell_type": "code",
      "source": [
        "plt.rcParams['figure.figsize']=(20,10)\n",
        "HTML(anim.to_html5_video())"
      ],
      "execution_count": 0,
      "outputs": [
        {
          "output_type": "execute_result",
          "data": {
            "text/html": [
              "<video width=\"432\" height=\"288\" controls autoplay loop>\n",
              "  <source type=\"video/mp4\" src=\"data:video/mp4;base64,AAAAHGZ0eXBNNFYgAAACAGlzb21pc28yYXZjMQAAAAhmcmVlAABHom1kYXQAAAKtBgX//6ncRem9\n",
              "5tlIt5Ys2CDZI+7veDI2NCAtIGNvcmUgMTUyIHIyODU0IGU5YTU5MDMgLSBILjI2NC9NUEVHLTQg\n",
              "QVZDIGNvZGVjIC0gQ29weWxlZnQgMjAwMy0yMDE3IC0gaHR0cDovL3d3dy52aWRlb2xhbi5vcmcv\n",
              "eDI2NC5odG1sIC0gb3B0aW9uczogY2FiYWM9MSByZWY9MyBkZWJsb2NrPTE6MDowIGFuYWx5c2U9\n",
              "MHgzOjB4MTEzIG1lPWhleCBzdWJtZT03IHBzeT0xIHBzeV9yZD0xLjAwOjAuMDAgbWl4ZWRfcmVm\n",
              "PTEgbWVfcmFuZ2U9MTYgY2hyb21hX21lPTEgdHJlbGxpcz0xIDh4OGRjdD0xIGNxbT0wIGRlYWR6\n",
              "b25lPTIxLDExIGZhc3RfcHNraXA9MSBjaHJvbWFfcXBfb2Zmc2V0PS0yIHRocmVhZHM9MyBsb29r\n",
              "YWhlYWRfdGhyZWFkcz0xIHNsaWNlZF90aHJlYWRzPTAgbnI9MCBkZWNpbWF0ZT0xIGludGVybGFj\n",
              "ZWQ9MCBibHVyYXlfY29tcGF0PTAgY29uc3RyYWluZWRfaW50cmE9MCBiZnJhbWVzPTMgYl9weXJh\n",
              "bWlkPTIgYl9hZGFwdD0xIGJfYmlhcz0wIGRpcmVjdD0xIHdlaWdodGI9MSBvcGVuX2dvcD0wIHdl\n",
              "aWdodHA9MiBrZXlpbnQ9MjUwIGtleWludF9taW49NSBzY2VuZWN1dD00MCBpbnRyYV9yZWZyZXNo\n",
              "PTAgcmNfbG9va2FoZWFkPTQwIHJjPWNyZiBtYnRyZWU9MSBjcmY9MjMuMCBxY29tcD0wLjYwIHFw\n",
              "bWluPTAgcXBtYXg9NjkgcXBzdGVwPTQgaXBfcmF0aW89MS40MCBhcT0xOjEuMDAAgAAAEUVliIQA\n",
              "Ev/+963fgU3AQO1rulc4tMurlDQ9UfaUpni2SAAAAwADjiHS/tJ287UCl9bNT8kRuPCKX5Brh5T3\n",
              "I0/x5sH2TpbMTv5IrbJjsvipvDqRsNl1+/PJDZ0f2BK8YkU1lXzgACjJs9Kdr/+Xmm5I6ttEylZN\n",
              "RWuAwwURq2/zo4M2Np9MV9GhVWqbY3s/TxELhR2IAdMXv4/s24q8jdp/yvxNop/DTYu6uD7T0Dpr\n",
              "u92gpPwloBIdULytf6oES2dANfT1P1hN0p3/wCc6G7GrdDhSKkgtf345eHSb/3Z+rfVKmAI2C2fU\n",
              "appJw5BWrFrKgYf3IdjOJ/tAqVAsl0+WGyjFtxUUqEMZEmijjzXvVrmteEdJqu3pMovMucGbO0xf\n",
              "tQoe6/YPeVJK8SXvh+/Beu5KlH9fy/4O6strr293zs1Xyi21tILZk7jCj6n3WDI80FoOnO9Py7lo\n",
              "mUqgTN3rsVp5e2V2miRGZqVt0ZZde6Wl52pWBXAT+sdo47mFeKq+EOpULM1uOXUKvPFnMiltaGW6\n",
              "pibmv+xNZjrbQwUtQbytU3z2zXuaue++S76+M7b2iwcAPEgzDIuj/jBM8vscOrxb6oTIizHNEPBO\n",
              "irsPk6DL1HrN1g/S2//MNftTsV/0vs01rYUK5JAuVGq93RLQjLqBP2WSeEdew6kxncYPlP+ecajm\n",
              "xHJ3n60d/5pt4jh0I0xz49GsI+PPWLWYwFyHNAzuTQz+Zqc/G91oLpB3knqFET1d3O79E3i4bYUS\n",
              "urCQTeYGAlGX/JTGaOspU1drX4Xm4sSo4aotPzOKCAFHCixNqM4ZKDnr00TuMDeHOF3DqPegVOT2\n",
              "45vrht+dHcZqaRhCykPVtR+jrze4v5aXJvqRQnJ1a7e4QT2yZHrRFZntGkIudlCPNNKU8PHL6P9k\n",
              "3AbEkzf6Af/mTd/P4+e1EKQJvPWADi36KjJs9WvO+qAGEWMBHMMa5LFAPBzkQfukayUN1pgGdZ5N\n",
              "PJvzTSunobMKTTGXtvbAvEUAdRh5qh9moM65aGFtD/13SHA8tQrof95AsH9UBs1Qb+t4EVVzNwxN\n",
              "mAlTNchf6p74iaSRoWz5gPhESiVAkg8wqLWFFj6WqUOmxaOt1dIN/T+w1L/x8RADLZLOX+mLA2l5\n",
              "nyDYerKN7MxnSzyIevsSp8jmqdcwQ/xAy7TSX/DuZ0j2f2LQ7X/7jdkoDrbIVnF08xBh5VhBiOJz\n",
              "YW0+hpf8demGEWsaJXRLA/HXKWHL87pKbebShBH4odNfkEqQdr1Dic+gpgeu0V6qec8OR/f9srXh\n",
              "a/Uq1+juMUgSns/FszH2kcMjqJDosF1tzNT7TXD/oOglBro7Eybi7T23oSrzHLffHqwIkS0sTJNd\n",
              "Kk1WBqipsfKJ8DB47joemG6KKcD8zF8AkdVPTOXM2fRwoUbtu99rNL7Rmq+MdlnDwIDf82I0u7hB\n",
              "bk2KwbCcpnMQc167+tzGlaTo6m+I1Ln8WPaAnD7W+fUIp6X9uPKV61Vvk1f8gHBwKDMWYTiEmuKo\n",
              "2oHp+7/1UXT3+nEeqxjG18n2pvYXz9XJu4FoQYLBKtBhz9s0DMB1H//5dpA9BvyXIbWZvsKLiWUx\n",
              "eptidyqTtf35z1Uo84aHRH5o9uMTDgQ/o+ZpyIaxBlTX9RvFQtJhuQdemhH/05s1QtETTrQe91i7\n",
              "dBdVF3vHxcY6GbjIjANUwRTY1hDja9uaG8hHEiUlGTIx77/gTOh/hXU5JacbZnHC4yYzWcL0V1xa\n",
              "ItUY9a0MG7dw90YfmFh+jhLkuUsnFqIlTt5HgDbSqXLB930vPkMGi6Z33VMPpySzYg6a8Wp0uaVM\n",
              "Z+qvnxiIGwzmW0Mt8e2dSLPB9pIdtYjPo8CSVNaHEV9ycXr0PlQZHUhRi5YjPG8bUDbwojxhuRTT\n",
              "Y9870yUfrs/buBSMWI31Yw1lNn8KBNVfCKQcEt5G938eFjE9v6zgG4GyaGH7whbt+nmErN5jgwfb\n",
              "0DniJBs94EgAlblbUUGJMbV8BHx30PVBZ2CTFj4Q4TI43bw4jUeNcq6ZfJahZ877W3mlBjDsIUpN\n",
              "6sFxgokAyTZdYk9t/2n29Zct19cDpooF9HXBESwD0bOnoMpzyF6/qeFwgzSRP+yTDRvmflTGZmPG\n",
              "KjzR9f3pRzAYY8AWEx4M6dxyiEMJmBL6OhrT8BQyRXUGU/RLlugjnlJEEh3IvaQ5ql1JlNoSredH\n",
              "eIvYSlCPf612ke+VVJzWB0mVFbyl76RBFuZ03a45bURWr3eD3Xhitum3+axCLG4DpsMJJata9P+v\n",
              "025+ANpps1Ub49/NWc0breSaXArHRqHmskvljsDYmTlMq8ciV9Kn2C0TifRVeFGj/vC9tKDj5wn0\n",
              "ruEVRRTQrej5/WSoHLy/RxCXxNeDzKxhmChOtIoSnlDgkDb8Z2P7cJZMd4JqSNTc0kWFCztY/4Ni\n",
              "91T6w5BvAzqor+6m5cMymsqjniZn9nGGFZDn4f18nbV9kHrCt05tc3kwptFtZUeRsV1SpKI3L/ft\n",
              "sZeIZUohK5lvN3v7Wjpgo4Ie2tFiTOWQV3SMOAu3k3OZfF7Iyk0rHf/oTVBY3tTFc4R38FqJwRdo\n",
              "DOqSwyMYX27ZW/ZXPhIDGYTjFXQgLoIibCeusbapnWeb2cV/3xVGqw/FNpWaUdrdSls78uBYJzVA\n",
              "3OTljnkKhNFTAk3uDC7WlYgEpu+ASLi+VlVd7QMZuwcvSv0lDEVTVdFx/JaCLVOIgAjRp3b1yPTL\n",
              "ifdh5Rd39Ua5X6BYq6ReQ3PjmXWk3nWMFVaLbGGu8tyQprt8zIIlLUEXahQWqzc+GuwhR7x5pPL8\n",
              "v/t0qnQvcq/OnQIh+xJ+ckVMMEYfjWnfXHjYv4tTcX5M6A//5r8YvvCIG0fRN8BCFjofzFPaf3i4\n",
              "nB8iKc2PUKxuAvfmg4d99xxN8gW0PUafcnhNHPKXDLAMhc8YCGaYk3RhSLaTypuEKABjBR+bPXG+\n",
              "oSjdURBwaCN96ryDFPbC1mLHB1rfswVxYRS+poVTiiSAd/qSVaeZ7d0eFkqQGP/PL2aGhetluCF3\n",
              "i5jdRk8zDf2do58BnuNVjuKOrDMFIkLDAzcDHwpHxsvV1frpjt/9p7O0eBUAf4yXtEdY8Co7l8ra\n",
              "z2NG9z6ohyaTXamJZYO6nyeZ4N0sG3xfLMhsmbkkiKC2Q2KC0fB9iF8AaF2htb+aFOcQt/bmJbWv\n",
              "N4D3KlrunI/FiW0ZST8yJlLtErsXJBcEMAcgA+cJ0o5aKd2EHJnt5kMonO93uGJWDOq1fkh3/hju\n",
              "oERxLUeoh7k42qaUPBJI49mGTJj4oKurkitqcf3K+aqRwP8zVI/cpVwe0WwtA0jQSJQh52OSFZ3G\n",
              "odeSXKlPP2AAtl/UUmsZaDk4IYjPZmMqQC8R3nbGLbKF6iXgRjo/2x9t5HLnXw9wTLPlZH42zbAp\n",
              "tqjd26bWYMNu1dEa7E7ZPZGXsjPEFphqjFFtkwVCIV7vL/LDeCv91yAts4CW2F+WGdAwOIt7BD3W\n",
              "8sNrsAWHo/zRqKOqPCGqtz3sDDE9XgP9haDfPmIIatRC8lo05YNLNTdo+TR4zCPn+lC0J4jhukhx\n",
              "eLenvmP/GcmIarKCwzjciwc5XkoTkPW7AviAtZyIql+mMDR6LCaZHFe83aDwCjja/ueT3Nz4YYZS\n",
              "FqKxHKLLKkSSnXUpDoZQQ6G/VeTJK5Y/ynXk3pKTtUVILzkq8nnRMQekFuI59+RmkbLUdpb43cD4\n",
              "8wprPR/xY7qCfX4oUVFsq7OksRU5fIQK5YPUgrx1vJm5JmIm657nJLU7BunaIAaF2sEDYSfNp+Vc\n",
              "qs+TatUeCSVlpHRhwuN5BKnASTefmnkv833AKwMR92snrtNfeyMZ48OlCsJrMgrcRfuIVf3ea3cd\n",
              "IJYQEMAWacOT9+sXpLfYQdytrVuRn2O05EbJfRHrrYSiLewRQioBxF5M/b6JiyccoZ+KpNS6LTwv\n",
              "D5d/2um9w7WMWt4fVqwj8jRwAABGGP0zRMpDtdV1s3DWc46mY935MYUrVqAwzERg8o9GT+qgBWMI\n",
              "+T4B6UqSbIYjuMQ10qjWGYfBTCfoxUffApni0tcx6aYbK3WGNerkl2HMiD6Cr34iagkJBKwHusO9\n",
              "jdj8LneSB36pQJfXpOn1FhWPRtbbvsClHpEYkLFJ6hBuNyw5i0+oW8ZBEQWis58ygZ8Ku2qPgNVc\n",
              "Xxc3xNt1j2Mfz2XEFdqxpmXcEXyZbTb/4/0vTfls2ijePVsp7AIEt1tG+Ks5XOKISdNBC/lLO178\n",
              "rGcG0//UQGHm4ge8HT/gJ7wNlbFcZNUxves8PFy9xGKBS/xqP/lJHSoDEXUM9G/qtxt6e4YyZ2/3\n",
              "Gg0KxsVIsp8e4MIS39iaOdVjI4L+Y2qX8LHujK2pRiSnT5anNf29gOxUC8btu1pc0zKGoeNIvMtr\n",
              "AT/uQJfWz3WyFqrl5yXq14iBmw+X79/2Ow5iV69C5sqRc7m9yYyT/M9tZ1JVSq5GyeBE3JA7eVfg\n",
              "xcClfbGiC5iXEBj6SJXTmRfoOMT8f/tzb0YrZUfbxm4DCBeYhhVnBEV2+VaDHmgHnuEBBq+oAdze\n",
              "xu7AXJK8KO2ZykVyWCFIAUM9KOeNrcmjBiVFlnOl88O1oa2NjOpnmGWnnt+enldzBWHsaMGv75+P\n",
              "WoAz0Am52CCIpesg5g5ZbuFM4eDKN9abbBeosO/8eR/SjFrU5qlVwHvh3jpKVVB9vU2r18LSQ/Yq\n",
              "7MlokfT3Hc1dbmRsP0bnw4xHZSPjR1iKcC7Whj6ly5S5jdcRAD6eXHsXZcGiIZZh1tn07IWA4kKo\n",
              "KrDgz6kWVUKvs77LlxMAmAm8U5VETfW4zvtIrr3rHLH8MQSRb7shh8GZGOvX3AfcgXRzzdsOkz6b\n",
              "4Dv+S/jLVewQ/QGymgKhhhe4+Pv1Aelw4z88f0N1QwFyixEX8CcJMMtsZu6WgiA5ouU2AScX3ziw\n",
              "sC3nRmfBpttJu7ccCoVv8r984peYxnRQZBrLge8OjLKL9z4dLKhrlxD1o40mQPSyvYEeJLK2pEDY\n",
              "1+xnC3EcsEts0CtdcJk9+ZDU58mOx8Na7D1h6SGTm8zXF4m2doGnIzymGYtM70NwC3TlSARc7bgM\n",
              "6n7kY0r7YRq3iufCGRudn4sXaOXf+4k3UVF3jOvwBye37FCWJOWsSboqkX0z6aYsd66YyixXdvS9\n",
              "g72wygHArtVyY9EhHDmH085BlZimAuk1WIpTYoCwyMlnvoQa6KzKTDenVgP/yoEKEC0Aws8Va12l\n",
              "YAH/Mhq9wJa/GSJYjhLKoxlpiZB/+RbQ16ESd5Ezv4ZCSgHr5Qz+6CnFCZ0+4ZkAHbmWt3mYa9CK\n",
              "ugzWI+nvsVILLXBv9kZg8oLdVQCwj18SSq5KOut2OtRwHv5x7voMIyA3KYyh7aKVdoZn4zXWtNmH\n",
              "z0xX8+aOJf/FQP4toH9F6utK//UH4uZdYrKcNPAj8afl3ldqKIiP8AwO/4I0XvDNdZShWFy7GRCR\n",
              "Sy7dsftcdVs+Fi63MgkE4sAUl2s6qmXjzEiHwRMf44Fu159oC9AGs6wacB0VohZApZkE7F1EQ6Gv\n",
              "B3DvWTDrl55ksuCdv0KW399Is1n5dg86pyUN+SolJfNlrAOmtqcso5JlXmGpg8b2u4GJKBvp/O0h\n",
              "jAfATqy8MaGfTVwuwjfrfJbIXD5HDY+/iI+M6qNjSkDWwcfJbKp/foxQsiL1HBnlze0GqrDOo8k3\n",
              "EG6kLYRg6rW0djwI9U7JinXOIyqkj7uxbp1L6eC1TAkobGfBImHZ/a8+INEQi8ZCNJq8lcup1F74\n",
              "9Ou/BYZk+M3seakU6KI6dQ1ePSDN+1qlvfldIDvYTqkMdkOKP8qzPloDKKfxqcKMn4AvNkhogf/y\n",
              "GiIbf2L4g5Tw2xCxsle3+oTf5noD33MIAAAv4QAAAYhBmiFsQS/+tSqACyjMGAlgr4TiLQcgcZ9a\n",
              "NglsMSRKB9SAzfixoD5876lqylNzs1AwRwHguOtdOfS1R3O2JaxKbMPAvf+N5ciTUR2glDbvQOR0\n",
              "9IOWFyf7vgcve8DxM09APqNWf7x9vb7q+76wMil3WqmLBeYBuiXaxQbd77Q+xWHuzO3oUrCbd7K7\n",
              "hzvFUzfn53PqUe6BB+OcuHLqQarGeEtO5jffW9rjzcaZCpGz5dbtjqLpTxH/r+y6kM+bsylYJv6M\n",
              "zM8NPzWGTZnaKrwJl0hmBeDE4lC/p9kl8O9HUmugPlSDhbHovoW9XeazqG74lzAc/tMGacherlZ6\n",
              "p7eHQopKs1+gHIo6Huy/JZwQKWPj20yQitnhkUzDHRDlNFWV5ZfkoS/gkNYWSEANGbElLot6WMyl\n",
              "DHrBKmoC0+jyXXe1JrzpXFSDop6P0vMCgqilf6xIuESyeK9oBLD6M60q1Z+nPFjDd2qLdQwe6yM8\n",
              "woKihVm+LpDaxKg7BxaJgagNp9Trf2ABGwAAAOxBmkI8IZMphBL//rUqgAsniP8BLBXwTxGBQm83\n",
              "TyHvq+R9Xox49USyK/xoOlX6nGj+3nqNqTFff264vtPP18CWP1kdj5PD4/rq9LjHmGyMKl/DaPTJ\n",
              "m7xYBaE/Qbp9cbxr0P6giByx+y+W8DhKUqr3VrcCZClVdq+Y76wCLVf1apwc7mfOQXltHlqNt38r\n",
              "ve+PURc/Qk/Akx5tBMVVbW3Z6wZ8g8gSrE9kmd5T4MDC79pEbZ/z/JqHhjR/+/U6i249WyEhaDmc\n",
              "BziNpda1GQtzklqONw54uVErsQJfOb0cUXai1w2N5+s/XthtwQAAAOBBmmNJ4Q8mUwIJf/61KoAL\n",
              "J8d7qIoK+CeIxGkGFJKd1oSF0ChztJVvis1JXkIqP3Kg+Gs4j0tH/7p3v1wG536WBE0iImUlNhVV\n",
              "9LRyK1WhMwC+leURXQZsETuUDMI4hebmOd8eo253WkxOMCu41tjqefpq+lc0eYr9IBlvCS+Lgkl9\n",
              "zEHA4/57n2Nmw17wbcSl40kS+Ky7rx3Epctf/itM8c7oNfrD3cBxmSLhJVObOtRyO3NyrENPrmlL\n",
              "bImERNs8fnqxCcve7zxAcOKOLT+jfCOkdHbUQckyXMMSVtjAQAAAAN9BmoRJ4Q8mUwIJf/61KoAA\n",
              "ceAs0Bjl/ymv+su/cIjufUw5jHlnuyqV9hfiwpOIMjMrWhkV91IV8++r+EJu/ObVPDITIdjm1gPe\n",
              "WgG3mrHKTe6XJmXbGkNvAnmQw3uCR+ondTQElQKhMB4cGw5j8yNmbdZeiw45/tiiajMq0czI/PVI\n",
              "KJ/kptzgc0xFpWUHHdAfYAadQQUSyPVp1HmasEHamGJeSYhGf7J+u3L2wV4Z8sponJ8IdXt70vjO\n",
              "CDv3P3dAr2HpuS0MBimVsQ7tvWwa4N67Whk0MZC6c4xLYqFZAAAA/kGapUnhDyZTAgl//rUqgABx\n",
              "4CzQGOnCHuQjdtSvIV6xNkfZCinTGyK10sshhiID8C8oFYuTDZ/ojrqblg0HSw/y13cNHumOUbZr\n",
              "bRtjTevSEBlmy+P83eZWwtxqEoCRlSYs1PsXd4T4YXrdYAJ5HIfzUfJSQJyQmkBtYONx0DtblvKm\n",
              "ArBh7ctv+q0gRz+vI3k6Q0+j+9GVMCtLwgO2+Vu1hrUDua2leuChavqHGoPhAApGLL9R3oY1Ql0K\n",
              "qEeompiU30s1vyVMyP5OBevZv2Kx7qzwdb8NdhQj2I4OBqgyttGxM+12776ntXg32Sb+tl4Ly1cF\n",
              "2ekY4e3+O1EJAAABQkGax0nhDyZTBRE8Ev/+tSqAAHHgDqAx1HqZw/odv/vpJkgo5jTa18IR+F4A\n",
              "h6PYmL8nSN+OO9TuyJVv7Mg4Mw4E92HlXEBLlRSiugKiJFLR93HmH0PxF6WlA9m92LKu33KxcPbE\n",
              "AEJ8U/JnBW0vLR3HS9Ix87jLgQEFV+PyVxrKkw0uPt4wG8X8DnEqTehg3pS8bWEaQrK/MtM4gwUj\n",
              "t/5X8CrI9VszWFE9Ej/EuSun7DpZtKH3IAlbwVQLxKq2Y3ZvD+LcscfpQ/ovYRZ2lA4mkiuxh0tx\n",
              "tyeLlrZ/0YcpOIEfOr873gg2X6xQoqAjuZKbtE1TIdp/yzUMKnfMFFOyJt7KuR5i1xBjP1uTrm66\n",
              "qPD0sej+XQ1tCQYiQ7f3qAe05gs8TabSa28Ipwq4bVhUNVpL71g3Iin7ZRASJK0e6cEAAAAwAZ7m\n",
              "akP/AACZs7hF08AJPKGyr1UMJVfGES622I/EeEEydEB4g755hafRvBjBmd8xAAAAy0Ga6EnhDyZT\n",
              "Agl//rUqgABx4CzQGOaDHvxb5gQDnQG1dAFulg5YCXwybReXovVEpX/v1S6EsPv5BoNdnzC8DK1u\n",
              "egVIt0V0Kh9/OlTlRe4xcFD8h94uGwXgH9LfIcv5+HXkBxoglRlH69bb3/wVImwsKLXuXjAPrOs3\n",
              "HJPxPdaT1/n6RGJApnFg5v4qUBPeXQu9J6kdeZgMI4IdoqcJ2f1FEwIOI1/DKqv7C+Ki8DeVI39k\n",
              "NTNdgVuKEj6lD6JWWMCd3n0oL62YWvaAAAAA1EGbCUnhDyZTAgl//rUqgABx4A6gMdRfvjMb73vL\n",
              "Mt6JIrc5Hru/fEzE7vzRrklNYMPYzIC+thgpA/I5Y9nZh1BrzyshUzETqrEQ5zKLn34pxiUJLDe2\n",
              "j92/xVDsxywCFomCHYmUvjO2OYHjD1zBE8S4yUhTGUR6NjPnONKNFf3G9evgXFZFf+wD4Eb13SjK\n",
              "tp5SZFNSGUdgwjDE92m103z4sPsCwt0jcqyBE0o6NS3i7XRTlJvtdU2QKoCaiJJKvDd+ENQXs6vh\n",
              "2fyq5+NbFGQBF3HuAAAA4kGbKknhDyZTAgl//rUqgABx4CzQGOo+qOBpzuLWFjcM4LR0cx7fMsns\n",
              "VonpHzR3RXojmGWe66SJrKNSIJwtVAQzoBJkr4ZfPDdLUncdIs4a5XRHocepEFP5oNnkWd7w7E0u\n",
              "AHMh76neVU/EMiBhWhSxYCQaD74rcVq/SL93ZqViSEs0R/kNDpHoLeaxcRuxRbPkZrX4LjZhwXHC\n",
              "DGWN6UXS8mqGzQAt7SrEwx57bLWW6HqQQIUtOs9BP2gHtaAAnJ5a5vYiUuTHRIgT78AWwaHYhO7V\n",
              "UrRDqaYKskV6Z/mdGCEAAADcQZtLSeEPJlMCCX/+tSqAAHHgLNAY5r6Q1sULR80SmucAqQoDTpcS\n",
              "v7jZCkoPJfjM7WT6T/R/MbQu6EX2SrJrjYfxdnNnkrIA8fx+3RfXrEaR59G/Nl3zGuLYswsTNI18\n",
              "+dNhc8FGsYqiy2SLCpCFoxaab2OkAeyebv0J/2xFoU1YOAhPx6Mnsua53jDpzk4/SSei7yER1GgL\n",
              "0l9KTEaDTv0p6EVngNgIrHdE7g3lr5G4vZrbN5RAhG3Z19jv6o3EiViMf+ceLOTKeiWmTnsKQ0/R\n",
              "iyCVuezMRJxAQAAAAN5Bm2xJ4Q8mUwIJf/61KoALKUYMChWXQS88d62Cm5LS8cKwj/49ju6aySSr\n",
              "xnwPfiSyNTqpkGOg68Wgx9KI6hzGJjqb6O9fN32jB5SF7T2VPjj06tpdifYb8A1XsneqTP06iK8+\n",
              "PZqnXMmtW8M2I+swrFW6bZElrnMqDfSSQAzu2e6y7Zweb4U0IapJzDKOLPTmNJjHL3fLfDb4CNud\n",
              "72THps2Ei4PTJPBxuDcT7xOsjxl02agn46remhKpahUhVaHLLK4tETd+lo7Ol4cEQPtOr/H+vLkn\n",
              "RhAcFc0rkUEAAADfQZuNSeEPJlMCCX/+tSqAAHHgLNAKTuhQvD1zHfKXgyz5n++U6B6cMWfhRPXx\n",
              "ZADojsIizbcw37BukhBdjMtiUuq7DuYZIWKi68Y8ZsYrbaZoOwTysy3w+EBWYdREmz6dJC1GMedW\n",
              "syPOMK6wS+sXhLbOhWZP2b/jJu/wkn1AdGUK0QOp/9ctjRFmt8CcTHdDGlZgeF+T0yS09wI+GtFz\n",
              "mATlvSsU9e2Hv5ueEsC/t83DM+tcB6UHR2dpE3Zavnvl7xfXsAvHzwdebb0rxUmsoDmrf1WHEuZE\n",
              "IH5D/H6nMQAAAOhBm65J4Q8mUwIJf/61KoAAceAs0A+YTluopD2IW2vRiple5rC+lSonPqWojDJP\n",
              "ykxajI4IP+KYWsxDw2Yzt3B3TNK1K87CrWTkq4c0FjMhD5ize64pN17waM0IOWn7GwhYYffUw2FM\n",
              "5gugqyKy03jbIPYaUhWOqpoL5fIhFAoBmtcoRziMxk3ExYr9c2boBpCoXiFHIIygzN7W03XKsXDC\n",
              "Az0qkE34jz0n2gPgRAbAvjG90LbeIvRk2U04jMN2y/koYCuxg0i+o2SnrH3OUxqZD7hxwOD4cg4B\n",
              "7yUl5knHuINgDT4+re/hAAAA3UGbz0nhDyZTAgl//rUqgABstof8AGtf//3QMHwqb+x1YV/P6l6V\n",
              "uy6PKykXgDKm6QCgRdnAES1mkHEq2cS9Vi/SJKpeqO1YpXswJ5ODqIaA35zQGMz3K6YrUGb16PlM\n",
              "1Y7HappuSvsbjyW6QnQTqcPoFT4+XK288UTezCYiKqoOzwXRpadHkMoHTbb9zaLpCighCAVbDP/i\n",
              "tUeQ4GZLbFiInycBtfTW0ffixcAAiIgfOgqql/iBWd7mJI+79ayT6EmKBvKu7r9GRNoCgr2zKNYS\n",
              "AlJDS34g01EFxdo9AAAA7kGb8EnhDyZTAgl//rUqgAByK1l5ABqqTP30K3AKqeLyd0nLTBsiDUvS\n",
              "4uVjaVKUd4Ou/GlmpvSdtykrxqU6mlcayP4FTKLm+QueUBly8H2pNWGN/MsPiYWRl89mV2ePHNhd\n",
              "/odY+88gY5GWoWTLTfhBoJgu+5qr5w7A1x03/XkBwkvqULvnt5L+IwA1EkeXz+6kkuwpAddu0bwl\n",
              "rGXbdtW5xPJ5i4QgEih//lF45C2pKfJ5OPmH9/6yNf0E1dvpHqYR73wU6qAu2Yv/HQQyfQXDCnXP\n",
              "BTSIdwM5MEXEPm+g2dAZWse1HRq2vQ0E3SAAAADbQZoRSeEPJlMCCX/+tSqAAG9nfZ/XcAHRTLpZ\n",
              "XtEQ4x1iwUchV+BRrgNjjN9wR1F2oqOzFjZkf0rmEkxskmnN9Icq0kKHbOar65moeSdWV2VDB7Bt\n",
              "o7g0qDHteqfAgvW+dIlm6NIoB0pIU++cB0IVLJeiqRUdpaqypYhFRzDr0o60FY2wxDP28viJpC3n\n",
              "NWWSrMaE23JiO2CnP0kuwexEeTd0Oagugt01jmRT1oUfYGLLXJlvagDpfrflFj7uM+82L+FVHm7q\n",
              "YGBjTNyH+a9c48LJdP/LbWdOM2CAAAAA6EGaMknhDyZTAgl//rUqgABx4CzQBuLIoYbfi5JAUwxw\n",
              "Arg7ia2cCh0pq0uJzgOr7HPl0VcZ+YZtuSWanKOPjLqedTHvjdgw8AfGmHnZzymhWnbJxvyjEPIj\n",
              "edCG9OMcIyn3/gxRaTD3vLeFCHK/NjSEAosveCi9fDcvTvnyV/pMeWf3/d+R8lHkvBnHMzo4sf9o\n",
              "FRxFqwgkstYlsZDqWA/fnLOWIV73XEuo0HmHTizUicqyw0Q+K9vuB5xCru99jgFeDhOJKNETvWJz\n",
              "VxgyaKV4ql/kIg+1bpQRO+S9VZdKxvtgSFHc9n8AAADcQZpTSeEPJlMCCX/+tSqAAHHgLNAKSLPR\n",
              "G58OPFwlj352VZt3DwmlMmm18OhjoRrI/SGWE4agj/7aA7R0G9Un8biHq2mwm4HoyTbByCug5Dea\n",
              "Yis3Mt1rs0u5MLfCF9reknQbpF3WgAw/eHOHeQWOeHgMsj/e54Ia9PqzzhdiFqmbKlrcigrojRC1\n",
              "/N30JTsNelHxvW52gdx07WQP3StJUNKQteudBVDXcls0cVf2pi5PswccgF4JwUyv4NX4krqsGnA3\n",
              "BVxqgcgAx9S01gihVyU1UxBdYoWHajIpmAAAAQlBmnRJ4Q8mUwIJf/61KoAAchyLyAFCHMi39fdw\n",
              "QMRFWwrWVVHSG3yQQ8p0S8DLVi+W19ijGvx2W5fNPv7zKL+5VNWmuowGYwHyZEDIWVuWkeEh1owd\n",
              "3HWnmCMHs10XOb8I+gusSsdiZclKuZcIo7rNzRTvtP/2lifiic1lUO0Z1BXcn9pwcEmbrJVNulpA\n",
              "tA9Dyih12wZAQvgkeB4aneetRgwelOORyecdqlSOb9PLu2QXfjQocE6QcI8dTkznmxCMq2i8GcoK\n",
              "d7qpJyJC4uKLAiiZP+MjCzMoU4cJ7KwxtwIaASyuLQYQlX5NQ1MeO0HLH+l1DHqqORozou4Zd4vP\n",
              "CZtdyu9vL8aAAAAA40GalUnhDyZTAgl//rUqgABx4CzQD59Tk57lDwxN7cvOKxCLSjLaEgYgf8pC\n",
              "HF6fvWV000KqQ3GQuH+q9B6mXnwhzMMqgD4CsPzp9q0DttW5WWTmv0LxD6JJlWv7g871qJke01UP\n",
              "tw8JMCmAxBlje+PX4hSZeID6Q1AQibbtbnUfIxXcJ31vumuu8bY6DUaKuA5fc6GBJbZY4RGCutDa\n",
              "i8WKvePMg2Rnx0o4vzyBCH9qVDCG5KMYjnyIxOoWch2VbWUlrlxST0x8NjPmO7AD2xrtHfgL0q7A\n",
              "jSMrbwUNDjUseRXBAAAA0kGatknhDyZTAgl//rUqgAByHIlEBUqTStyfPV8/2Uz+gsxtbGFjj+3/\n",
              "55UvFN4HOp3VA//OY79pxITsOzR+55X0ZjpvL/0eh+wUtddBrHMmc3cPfWZg68ZiaCuQmR35OZNB\n",
              "1AfzW3pb0OHfxIaWDXPOU0QZ4tBWwVxDMUDW/pO6Y2yZFoTuV0kAW9b86WKbPyOGHYiObPzI34BI\n",
              "IWz3fnRRvRb7/Ckmn2EPsHpVlSEJwJz+rNkel9R6C10+ZLLNwT4IA8Ysr+OAl+5T4msnYU8YYAAA\n",
              "APRBmtdJ4Q8mUwIJ//61KoAASByBHADVA+Eiu22oXALf68aKxq8iV/hChcvpfrOq/H53g5Wybaoa\n",
              "mdPoNNNh1K7SpWUGrj6EObvntVdt6cYg95bfJecLcuQ0b6tbehvBE1O5DNtf5yAh0UIKCWxhYY/q\n",
              "OIiIDUBFFbceXiBwkzSgqsbUvqfEqigULwAMu6mSf1mbUqhCx+8H4/asTof/TUeRNA7uOax1VXQo\n",
              "8HOLNR1eCADBfP2jFIA5nTe15eEZaX27kIw+Do9vAOIVsE5q5D1EpCEs6+eg8HsHWmcxyQrtUEt0\n",
              "q14pmtebxbogUe2K29aU1sAHAAAA9kGa+EnhDyZTAgn//rUqgABstxKKAUm8PGQsw3Pqsuj5d8L0\n",
              "2+tpIui6MZ8k3U+YOeyD2m25rOVRU35oRyBWtCSww2v/wKhXld/t0xZcqu4un0hOBQs9bJbidrg2\n",
              "3PYzfBG/aR+aNB2qQxdOnmLja2Aa4rD5lC2aeXkMHohMXiT4kWMt3CtfSAjX6JO4Q5RbUE1Wfru2\n",
              "+oAYWCryhscal0avxpRe5Zvs2KS+XG64OMiaPBxNQrBTNv9xMs49kazRgcxIWPDzOqQChBeHjdWM\n",
              "+NMyZ/lmOE3v5kYmJhEEDf4aUhmY82CkQcYJRBZ08s4UqMfU9si/wQAAASZBmxpJ4Q8mUwURPBT/\n",
              "/taMsAAdKDA0AhWB2WX9DItfQIfAihUEPB6WMYo3wf4rofFr1/kLkkHdiuz+ses3SrzuE3tRpDoc\n",
              "uaQUuO9VM+c/UM9nGFR0E4Q9Tv6zKuQ3yaR5SEO9pN1S3kU10Z/9wAWbtf5RDcv7drXjj4mhsz1x\n",
              "LHnHkMcCMYfWawuehwLcz3qqKr+9IsT3wHsswgFQlD6gPz9I0CqORtDOVhhY4YNNHATS+1RB6qfQ\n",
              "4QARpfC8nSicsmlFOI3bsu+gUAELvliiO0/cp3oLNsCrZ796Wml3FZReQ30+m35r3+BKEosjmZef\n",
              "DHhQH36zenOrhNRoVnrdA7Fj5BmPmtrplcB4eLuEuj8z962LGACXUHWGSkDkrOdFSyAzZ/AAAAAj\n",
              "AZ85akP/AABNglwAW9KddU4W0kXf+xmgqEn1PGWMHVrZomkAAAFqQZs+SeEPJlMCCf/+tSqAAHIy\n",
              "iYoAzPtSobJx/7xO1ChPE8KbIOHngbMY6LlGNsUQa2T2P+q++8lM/tWObZzt/8FmoBOszkTUIZVy\n",
              "XoeAMaP3RPuvcQlgDqimgBP1FFTAZVbens/9eLzkjHKhiTUlkXPumKNeZlWYno++fUIQ9wpvMdUb\n",
              "FfaY22/hCykmaiS8/gU29R49p9ywuSkVdshvencIudZqpQw8TRQ/UKQNop1r+xf5D0+BGseYGOPd\n",
              "IVhfcNnTbMwF57L9CWebuEST388bjjv7Mc32i7qOiyGQK2pYDSVPR4M6qh/E9nY8SPrlV2Ydfg0L\n",
              "Gmy95aiDHXiztDv1U1V5W9Hw41WVygQrShE2HZxk5q35wATQ0fMIxbXQBthsTOeTedeDq+weFG2w\n",
              "IGo/7vo9sAD/fyhEv8hAnduoA32dP08yndtyzFpvlWUtVDbHZBVpKbgeWf5Z71BVPYo3ogsMGuHk\n",
              "igwAAAAuQZ9cRRE8EP8AAI6h7jU491mUF4IHDDinv9IgRoWbqswARGCbLfDg5YN2r0TrPQAAABcB\n",
              "n3t0Q/8AACZjJN7WKaEZoMcqJ0T4bwAAABQBn31qQ/8AACapTWKQEYZ/iSXGOAAAAXlBm2FJqEFo\n",
              "mUwIKf/+1oywAB09YmlAQeD5F8gzmscDgOB0aBLGyt2qSvbeIJuLm9onkSO5Xoe5A/ZzJdZFX+33\n",
              "ub3JIn8Ya1JJbi76UjKA5GioA5OQ3Be/6FoCTFG7xI9pf4BivkviG/qimEKyZ7PWHZ10h/0Jbt2b\n",
              "sqceEpXHe73tu7mP0ZVYHHWYGeAfxQ73gHxuUWj6RiAQRkGnXEsNZTvfu+Mjco1IEeIp6h8SK/ZK\n",
              "MdFv23QEVAC9Scwio9phC6dqOdNQMD1vKj39s08paCZOAhwxN2znd+HtPIPfs7IT5qRnAKW0YCNW\n",
              "cu4sLGQ+Aq0c3QJsgsVaQQ0GGmc5O2QwHdzenhXUmhz/0M/zec9ecSKE/5m7YZ1o9FoSygE6Hpll\n",
              "jz2j/f23DuMg5Dp9OrpMGfB3lAwpZkhE54Z/2/sPqNDUMUCDdxDcX+errXc/5LQIUFdt+aojUV2t\n",
              "Dn8KxJ1dvmQwGWzusGBUhppSa5VQR3OeTzjPgAAAACFBn59FESwQ/wAAX2h0yeqYGjaWOA6DvhfC\n",
              "o0brMsFG2uEAAAAlAZ+gakP/AACe5Bqgu/pcSf8Fs6tp0cXY68QA3Z2BDvBwbcSeXAAAAWVBm6VJ\n",
              "qEFsmUwIKf/+1oywAB0oMDQCFMp2fCHj36BYE9HUfxxZSpaeqxmrLnwlFWAA6mJfLGOtNScfL7cE\n",
              "7ZhYg4n4cjqyKs+QcVb1jhR/QEhimgq7F3ClVq8O+PoSIaeksIdvyqlMbzw26RjA64mPih8ZT3Xm\n",
              "M4h/LhPNekHthwSnYU7pq390mixNmQtymwHWNA21VTefpHjJQt9qHYNzpdQ6wCHlM48Fvr/w80LY\n",
              "dAszslG8lPmKVdGWlMQYbCrq9Bi8Q8WD86AT5hOsnmCOhTD0ZTIquuzkyouxUVAMdTudOPrq3G/Z\n",
              "pmgxgQhg9yyUN2vpIxOnMI9kDC1GLIZTvVPWG6utyjPIQdDduKXTNw9gMpzcFoTQ0ZIL+X/kTx1R\n",
              "oi7/RKC2gmV0BslzGuciVxKGiJOh7jr1NryaLtumvDIYCcogvNgofZG/rH5FvW/puH/80Q9p+m6c\n",
              "Nl+XvkbBGY2SccEAAAAsQZ/DRRUsEP8AADI0QvuOWrYTFpQtX4MhKbhLOE5gACwVQwxtJvqOD89I\n",
              "DlAAAAAcAZ/idEP/AAAo4uQ6LHoBHpVva58Qw+vSZ/EzwQAAACsBn+RqQ/8AAE+MqFh/F8NPJaAE\n",
              "qfFJwCSE7jXWrfV58/oTcCH3n40X5ujxAAABPkGb6UmoQWyZTAgp//7WjLAAHHggMN0nUV1Qh8Tx\n",
              "zrkXqEvXeJkAXyZyjXhgszin7oMmGt9sO0o6JXaIV2Vx6Lm25VspfPeg0VSP0Dd4Mh/nEaJ9PqrL\n",
              "qSZE7dtsdouijz88LXaBb01FziONEDc7T9gmU6+ATGOFX/xttIumxd1jPc9k1IdTf7Z7O9wAahjA\n",
              "4lk66c5z+F25hK7lx8BaMizm0q+RClP/dkvxBhHbdK/n3sBAOh9sKQZ2zLwsOUvJTfO4DmWx2I0p\n",
              "v0Cnidj7B+zdRkRE6yLnYg18w1WiRqHiDxzZmEUw1Bw6zYWbsnlomlGs/X+q24sNnFs7kBNE4Ogr\n",
              "AeBXQXiekDayDoLzPfNYBkTjVvd4CP0e5V+Lw/LcYE7qkcg8lmpFZZZxpg2vAaWlIHTY4LTnRVoz\n",
              "K/Z+OQAAAB5BngdFFSwQ/wAAOfPk/3BDHAJyQf3kXO/KRYgusWcAAAAXAZ4mdEP/AACGuvprSeLo\n",
              "X9zPS0Go9IAAAAAjAZ4oakP/AAAo6P7mP5Vhg8AAuFNHVp9HPs7oFL6Ch0jF4EAAAAF2QZotSahB\n",
              "bJlMCCn//taMsAAdJFH4062AO4J0N+gMxZcnw+EgAtPTuMsu2UJ3iyRmeXc4Y6s5jBfrv8x6d+Hw\n",
              "x15tnUBVCV4lMT+/inRZiC2mlNj3Hhy1z+yeKy8ASU1rKEfOcESoQ4kiiiR5QL1yaF8g4rXqbaHS\n",
              "CJw3EMkI9o82eL7/2wW7T8cvlGISn83Zo9xARBLKObrvYvmiPoyhrqc67peV22dJTxshwK+HiZR4\n",
              "sKdY2brQwoV5OGLiYMPTJALYHqfOvjMzYXDm/EZp2ca1/ywEmhGe22czMEFvRCpUovS3BjcqL0FS\n",
              "B0EitTZ6UW83gjzKjtPJzGUiE2+cJn8ghbZI/57QS6B5WTYZU2GwWa0FO/3lR/TSQ9Yua9cSvEIp\n",
              "w1xwrchRZ4OoD3lbaUNj7khMhoo7gHkBnx4jR2q5cG8txCNFnc3UdJr8RxmyCSZzGZ8S2/mbXzvA\n",
              "M1YJpGNG1pWAj9ukI/lkIkB9bcX6LIEqSjkAAAAlQZ5LRRUsEP8AAFY+gDv+WnRg0QSPFIx0c5do\n",
              "p0wdXb7K6JzPgAAAAB0Bnmp0Q/8AATWMzlXGjS/Nt4Ocigw4rvo7QE6OOAAAACwBnmxqQ/8AATWD\n",
              "aFd+JiWRb4AS1c6G6wl9BBhxHVTts9Z+eo/SJlJi9yPtgQAAAX5BmnFJqEFsmUwIKf/+1oywAB0k\n",
              "OhMEAD6Tr43CYaDdaqAoeFUiyDBjMKOQTe95Et23xwNF4TQjueqC2paabyibsV91A8U6zFZApI0u\n",
              "w60deMq7RlFzWNFwB6zcZv/yJB/V+ufLPM/vIFZ5XG7vmYXZ4CHWsSa+8Nitx+In0EjHQ3x/WGIV\n",
              "OcR+mOnBW9oeKWungZ1vTwOaqKESFK/sSidR7ihfW0ZPUXgeRfLUxC1pNDMAUKWUVqoroOhOhIUc\n",
              "QUzrhyprwHXa4U6/lvfoMzMV81Y8ZGcco9jHH9D9WqAPKFiCjjPEaGjiMhltQ8QXIsjyYWUWGmqJ\n",
              "Dz/0AczekpPRMq6RUKpn0fBC15EKtJuMobCg7NDdsKjbPzxjYrY8PQT63odzN1LJMTWB3S9q61n/\n",
              "DNaXytdofc1he27mSapMaGtPORA1QnZYtEFk0BoNsA586XkDacIHhNskq6TMXOsB0fsnKC76O6Yv\n",
              "NXy/8vhxyovuL8GuItkx8062RjFhAAAAN0Gej0UVLBD/AACOra6s5YRDd93ZU43RFTflJpAADdgz\n",
              "8wJPDConSwRQiI0Nwx6TqPLH2NhQXcEAAAAoAZ6udEP/AACKuvppCeGh5Rg61pWWskfXgBaKu4Rw\n",
              "o04Mq0dzgARI8AAAACsBnrBqQ/8AAT5HzUVs64ZPjDsrs1P25mKADSx8yb37i9o+bZmGh6PNmylw\n",
              "AAABeEGatUmoQWyZTAgp//7WjLAAHSgwNAM5S9pF21DEGu42amZv5X9eoxykAxKxTsjSUq7HY9N2\n",
              "U6onc2SBkXlhIiQ5UnfW+7SwUYoXkKPvBuVXOaBTpXAADaDPtMS5UNpWb5N3AgXndWdMwWR5k+4n\n",
              "wv46mMVxM9LUYeWwJAY8dvhGzUlubODXK84BHt7ejzCzWDfPMz+8U5NOuFKl3aPOEvyOP8C4eQ7v\n",
              "qAdmVPDRQny+mm9NhApXrNv3WIqQBs6xRt/d2YFbjNby3RMjOSogFkl8+DG0UahTwwyoX+sIieuI\n",
              "ox7pof85vqTaqau1c5iRP6nDARo1LLB1R2SukoIJpCmfO5NszTzwdK/0PwOWetaK9OM8w1m81TXs\n",
              "J3j6gv95zJ6ndgB20zAm9UBEfxMQvrhsJxVAJFfY8gWI78i1J9ZbPoGDElN3t3vFZboJNXvX+wz/\n",
              "yYokHobqRQy/9wTBllPu0QkIlbZt+xNA3lmJQ63ck1ZRUaMvERcAAAA6QZ7TRRUsEP8AAIqtt/3x\n",
              "rbf+2Qvu1SizBmOwABu1nHLZSVLzDzYF5hIAAkn/ANB1Rk/L7vunhBYFBAAAAC8BnvJ0Q/8AAI6u\n",
              "VM17Jmq0cermWgBaTRWUVFaayTdDJk1aXMf+sRkxt2ZJViyQ2AAAABABnvRqQ/8AACjo/DEPVdax\n",
              "AAABN0Ga+UmoQWyZTAgp//7WjLAAHSQ6SAeAD526KS6xG3P9m4JKDa7o3E/ML7hPEupZOpM5nq9o\n",
              "9GR25vIsvkq9Wf2YBEwIu75pfptjL4M5/uhW+pWXANOgYwYnMJ4VIRpN5p7P0BAyZjqC8qgG94rO\n",
              "MgrHp2siG3iTwb/FVDmwmbdda0z2a+7xrknjf0NmABelb3DDTlOxdc5lQPlVDhJ0hBn6zPwFM+4v\n",
              "aVhNdwjZC+FiDWXpd/71w8/2/d3iUaGh4ZhY9TodUClKUunna3QFCMDYMrTRvXUOHY//0Sm5nEI6\n",
              "Gj4IqC2e2733+HaaAKv9ddYMGF8/WU1Qk2OAhVdIAvSBcXvkJihpshX9NdJJ0o+eB5HKE66wE0BP\n",
              "5mC8G24iagUFw/uJU5XlUPW+nZOfM9r+ksULoeyAAAAAMUGfF0UVLBD/AAArHz9g0NNTBRfJBEG1\n",
              "WEACvnj9+uoEoeLpFv8LZPGZX/+ZUBTMkNkAAAAxAZ82dEP/AAE+UrKxZ0nxPHGkl/0DYreCrhS+\n",
              "K9ABpRd4m+YPjjb4kz8sfqQV9IlLpwAAACgBnzhqQ/8AAT5HzUVs64ZPmV5RD2/deAFW0WNRmXfv\n",
              "IqD8Vh/Dy1I8AAABYkGbPUmoQWyZTAgp//7WjLAAHHhDawDJOgo5eTzuUb7xCexTzdKrFwarJowO\n",
              "Yri0DxRTP8PQxw+tj0QIp3d8bG0qwGl/l8Oovu0iUZSBuPGwD1lLGIzlE2CqUb4Z/fOxgI++p91d\n",
              "RArkDtrbcG3dZcOl2nHUyUlTljlrRZIYLUpA5yBrXKpToWaUbcTIU9u9TpEWSOM/lKRz6bJDHS9Z\n",
              "jzws/6cMaIs+gJM6ZhuIbI36hazS/1Or64pjxu7AzbiYP7lcUlL9Z6nFZboNkdyo/F7lg0lZfWCk\n",
              "a4rymU+bYxy3DZLz6ObVy5zQy9Sa5+smF+khQsx4ElbpNpVdduCgYmAJsjBymfKoNqCfkuzWsVCc\n",
              "j4Eeize+uQtVnzpKS/G2/rvmrjUPm82Pvc9XVgG46+LdZ9CxVcLvnOJWsA/rOa53GHDDs5BesBen\n",
              "3eFBaool+wSPURuZQa2MsK4fjS/XrSZwQQAAAEpBn1tFFSwQ/wAAiq22SaCw2W5t+sB4FA0ZJIH+\n",
              "nCxiai2ekq1yYAbErzIKq4TpPdMtbdK2MrSRl1ZsOLFkYCe+dpIyMWvDX9Ud0AAAACUBn3p0Q/8A\n",
              "ANLdKgBiMZxpfj80fjmgBZ/AXpJ0roQ1NxMHmSaBAAAAHgGffGpD/wAAKOj8VHzLQAsoT6oZVZ1w\n",
              "8ZatuvXWgQAAAWFBm2FJqEFsmUwIKf/+1oywAB0kOkgHgA+lLvna6Yc0JMYEyLm3vVC8aM+wF3Zf\n",
              "LYFq+yzMEez5FQiVatD2zPc989Ii8R+aRsyV43xrUtxfe7Wgrg1F4cvsUkfq9C/gyobhIeRcDJw3\n",
              "7RAh+e4pbGop+YABZQHbdbxSPxMf9B8x0wrCS5eK8OYZglYI98iDoVtPKd/U+B0p7x9TDy8qctHQ\n",
              "AHrVR3ICZOAb3XAKjAbuvl+/EbQ8NwTLN3MkThs1VSPeh8ZUFdbUSCwVAH9sB+XGab/Fb1AjxC0D\n",
              "cHJ+EfINowm/iJO0CL4lc8tvMD8hLEAHl/+9y/WAIAoatEhIR4XJWYcnoIWSR/eczNUFl7dJiWcs\n",
              "gusYLhigzGjQE9Wq4vtrrrGoM7ZvA7cY2s6SbfVnvOjjgJHTEuMyV2V7cIdvjeRPsFkHezDbmRtH\n",
              "eKSl5TALpDjpR3/G3BNZ8/q9HeXCEAAAADVBn59FFSwQ/wAAElbZItM3rAPTJAAsxwtURuc+vCh5\n",
              "Fo2M30CYtk5gXkt9XZv0voCadMkVCQAAABcBn750Q/8AAT5S2NwSwvVf2NjVmtsmpQAAABkBn6Bq\n",
              "Q/8AACjo/FRkFYAWGrQ3yoh8tRKVAAABR0GbpUmoQWyZTAgp//7WjLAAHSgwNAIUjliFHnR3kdyO\n",
              "1T5S3vcVzklpCvts/XWKflmy2YtAjlR1gdo4yf4tHEWn2AyejoUDJ+sGWMnXTjK7nQzRn4X+0YLz\n",
              "mU3wW78G+gPZYvUafyJGsGd5CaT2X8beGZYk2gPDlDNGX6i42sH146Hkqb519tKVp4kLUeJ2WnIt\n",
              "AFcZthC+aHS/0SNgmaAmjzvTDH2OTW8H+OheV2w2HTKi6JcGgvDN1G/gOKzez1IAWNXpm3kgSLfB\n",
              "bg5I+pk58IKmHQqBE8rpGvkIIKLANgs168wJJECo+pMpUNktRUP63/CPdOocBbzT1oQjKBiydS5J\n",
              "ViRNa7zJwFZo/qYcyQYouBuRtDPH9yc9AtljNLyHG8WLu3VpxDYeiDXpsAPLl5rlIpFJ5HV9iC45\n",
              "SHWTe95jTOdBwQAAADlBn8NFFSwQ/wAANzRCSBqInskLJlEaGwxMBBR+L5QADjbIo9wtMDn2hPQn\n",
              "CHEi3rB3cVKBmK8jb3gAAAAYAZ/idEP/AAB5a+TpSSnYcMM2W1fAY5eBAAAAEwGf5GpD/wAAKOj8\n",
              "MgTpJdaGo6EAAAECQZvpSahBbJlMCCn//taMsAAdPG2NAIVgaQ65VHOXrtp2k0V3DfNUixozfPAf\n",
              "2+GdYeX6McQwiibQZlcG2pRY/rFwlnpgxwLVMXyGgl1aBwHK3LruiSgu0p+Zf9uvdHB32d8MOGCm\n",
              "KWvcLebF7cd91VE4BY1fkEGFgr++ixhx2tsjwlRutFaiGG/GhoV7/PtZChBK7ftUa/nBdym/FU8S\n",
              "G1p4wAbicPfdVuDVGeicqMnkdu9jEOmCOOvlyF2QynFBIp6Sl09a4ApjsTrxA9Q8i79/Xg/bNeeM\n",
              "Bd9Dfw97BExDOVkcWePXuY+LKYKBP3s8JUseYGiUDXzqxc45TcW+hZ8xAAAAJkGeB0UVLBD/AACK\n",
              "tsrXe6r1rDhkm7a5A+Mv0XmYAPpz4gKp41lBAAAAKQGeJnRD/wABDVyo+nr5c/oPqLRgAte2bNWD\n",
              "76lb7kXjJMyiyNyHO6KYAAAADQGeKGpD/wAAKOj8DzsAAAEQQZotSahBbJlMCCn//taMsAAceEKk\n",
              "AKQ3IMwdCaEGsnmH1CpG5p+eWKikeMQEU+7xcZE9K4LQ5DjOCFy3pYEP0+OwS+vH0nA91RggaJwy\n",
              "MPbOl9iSwOKoBgxqogospsFnh76zbiWWYR6AsoEZQ/ySaCImTUPZBlo2pDrQrSqgBz/l4CemrMOf\n",
              "VZdzl9R08bNDzafPpFHMyfWS0d9SbV5hs7Mx+pPKR1JOts8vwidD2sLQH7y5RyZYxf1uYBu6gTO2\n",
              "X4SF9l9utlFHiOnZppBUAr5XYuekxG7tUvJ89xq3gUfIYp3B1BULVfu/xsm4wSkMV+c8Tcdd3RVV\n",
              "5+kIMouFQ9AhqQQiZC60oxqXyBGN5OEAAAAiQZ5LRRUsEP8AAFz+hfcQqAsjSpHdToLGQb2nwnaE\n",
              "vSWd0AAAABABnmp0Q/8AAGlulIYgVyGwAAAAEQGebGpD/wAAKOj8Ux3GBkdpAAAA4UGacUmoQWyZ\n",
              "TAgn//61KoACplR8AKIc5DJutMl8xPRPeTeGT2/zmpPAk9QN0qC8QeQMIE9Ort+5Iozt7vm3tv/5\n",
              "ta2fNSUdiPqQqCymskcBGTuTs/C4Zq1AB81+/VvCS0ljPMZrFFhAIzpWlLZ+ocGgnLpC/z+FS+kh\n",
              "U88AstX5FiDXV/ZmGuChtiOsjuGRYssOqgt2H91agPbtTEgP68T3vBas6y2JYrxNAXE+OyVXd2U1\n",
              "iyVpM6/PJxMNc9jHVI1OEeXwlTb8lbOq+1wQny4ezT/LADr70jJjNcwYCMAIWQAAAClBno9FFSwQ\n",
              "/wAALD8/XpDNzk49e1MbZgAcO2sgQD/WkTBUd1lCBgUX4QAAABEBnq50Q/8AACji4Hz7xy0pUAAA\n",
              "ABMBnrBqQ/8AACjo/FIerdv3ujG4AAAAkEGatUmoQWyZTAgn//61KoAATBx4IAOZId55frFDVhFP\n",
              "of1RzsbpqXJ2BIPqkygTbL/taa0PzYKzt1gCWroFC0GfF0iNQQjJU1lkXIb9IKa/AhAaEaxvWl8K\n",
              "C0tmZFHd4f3JxvkMKOFTJorXus/dU5ldrvaKzTLyvrcAtzNzCEeeOMEawgjx5I3eZjpZhPlfnwAA\n",
              "AClBntNFFSwQ/wAAX2iFNu7SaLm6U9dzAHrNvLxMiMAFsaf9TL4WMvJZKwAAABABnvJ0Q/8AACji\n",
              "4EOwA6xgAAAADQGe9GpD/wAAKOj8DzsAAAC5QZr5SahBbJlMCCf//rUqgABxzeHsvKVDbgFqB10Z\n",
              "b/iCMQlhMqKP+H6iCek3LW8hm42fIeo47ypE/8P6DaITGbkn9yD9eZ3jPPep13ZHONfB8G6kne0Q\n",
              "fg697KNbeCzZmQeiEP78G/KCnp/+ajOBOqSaiGSQ5nhKB0ChSkUVLG4WEAhozNgW0brDdhOmsvJ/\n",
              "CK9TEEPLSyu/5C9rdyiMLcDaaBWRv9RKFfuf5YWTsWmCtiZr+rtxES4AAAAlQZ8XRRUsEP8AAFY+\n",
              "gSNvr42Mz628DXzyL+rwAA4waOfKZ8KggQAAABQBnzZ0Q/8AAJa6/oWLzxseXT47TQAAABABnzhq\n",
              "Q/8AACjo/DEUUCtYAAAAYkGbPUmoQWyZTAgn//61KoAAbzcSigCgNidxyzjo7udWxIQPd3fLosf8\n",
              "uquUyERG8NpculoDmuSbbgrUgfPRLmiQb0wFLkXFyljZIAqW86B0T0HveE8FJXOc2ybLEGGvzY3h\n",
              "AAAAGEGfW0UVLBD/AAAvtEH7U0+wrzWTME2JIAAAAA0Bn3p0Q/8AACji4AkPAAAADQGffGpD/wAA\n",
              "KOj8DzsAAABDQZthSahBbJlMCCP//rUqgAAch75N23py+yh6EbcmC/+GADfrpH0vrmjcj3j8m1ir\n",
              "WYjbA6dXdTyVl52/JBUPH0F/IAAAAC5Bn59FFSwQ/wAAKgWmpEZTdX8cxT7gAAtOA0nb7Rh7EYt4\n",
              "qMNIgHPxy0U3x2FwAAAAEwGfvnRD/wAAKOLgfN/DBklkzcEAAAAaAZ+gakP/AAAo6PxWHnIYmZ11\n",
              "PsW8Zuod6M8AAAAtQZujSahBbJlMFEw///6plgAA3pfcPD0WD/92gAtUK+Nr5gZtyLWvnmp4PbVv\n",
              "AAAAEAGfwmpD/wAAXRdNJpAq5DYAAAcubW9vdgAAAGxtdmhkAAAAAAAAAAAAAAAAAAAD6AAATiAA\n",
              "AQAAAQAAAAAAAAAAAAAAAAEAAAAAAAAAAAAAAAAAAAABAAAAAAAAAAAAAAAAAABAAAAAAAAAAAAA\n",
              "AAAAAAAAAAAAAAAAAAAAAAAAAAAAAgAABlh0cmFrAAAAXHRraGQAAAADAAAAAAAAAAAAAAABAAAA\n",
              "AAAATiAAAAAAAAAAAAAAAAAAAAAAAAEAAAAAAAAAAAAAAAAAAAABAAAAAAAAAAAAAAAAAABAAAAA\n",
              "AbAAAAEgAAAAAAAkZWR0cwAAABxlbHN0AAAAAAAAAAEAAE4gAAAQAAABAAAAAAXQbWRpYQAAACBt\n",
              "ZGhkAAAAAAAAAAAAAAAAAAAoAAADIABVxAAAAAAALWhkbHIAAAAAAAAAAHZpZGUAAAAAAAAAAAAA\n",
              "AABWaWRlb0hhbmRsZXIAAAAFe21pbmYAAAAUdm1oZAAAAAEAAAAAAAAAAAAAACRkaW5mAAAAHGRy\n",
              "ZWYAAAAAAAAAAQAAAAx1cmwgAAAAAQAABTtzdGJsAAAAs3N0c2QAAAAAAAAAAQAAAKNhdmMxAAAA\n",
              "AAAAAAEAAAAAAAAAAAAAAAAAAAAAAbABIABIAAAASAAAAAAAAAABAAAAAAAAAAAAAAAAAAAAAAAA\n",
              "AAAAAAAAAAAAAAAAAAAAGP//AAAAMWF2Y0MBZAAV/+EAGGdkABWs2UGwloQAAAMABAAAAwAoPFi2\n",
              "WAEABmjr48siwAAAABx1dWlka2hA8l8kT8W6OaUbzwMj8wAAAAAAAAAYc3R0cwAAAAAAAAABAAAA\n",
              "ZAAACAAAAAAUc3RzcwAAAAAAAAABAAAAAQAAAoBjdHRzAAAAAAAAAE4AAAAGAAAQAAAAAAEAABgA\n",
              "AAAAAQAACAAAAAARAAAQAAAAAAEAABgAAAAAAQAACAAAAAABAAAoAAAAAAEAABAAAAAAAQAAAAAA\n",
              "AAABAAAIAAAAAAEAACAAAAAAAgAACAAAAAABAAAoAAAAAAEAABAAAAAAAQAAAAAAAAABAAAIAAAA\n",
              "AAEAACgAAAAAAQAAEAAAAAABAAAAAAAAAAEAAAgAAAAAAQAAKAAAAAABAAAQAAAAAAEAAAAAAAAA\n",
              "AQAACAAAAAABAAAoAAAAAAEAABAAAAAAAQAAAAAAAAABAAAIAAAAAAEAACgAAAAAAQAAEAAAAAAB\n",
              "AAAAAAAAAAEAAAgAAAAAAQAAKAAAAAABAAAQAAAAAAEAAAAAAAAAAQAACAAAAAABAAAoAAAAAAEA\n",
              "ABAAAAAAAQAAAAAAAAABAAAIAAAAAAEAACgAAAAAAQAAEAAAAAABAAAAAAAAAAEAAAgAAAAAAQAA\n",
              "KAAAAAABAAAQAAAAAAEAAAAAAAAAAQAACAAAAAABAAAoAAAAAAEAABAAAAAAAQAAAAAAAAABAAAI\n",
              "AAAAAAEAACgAAAAAAQAAEAAAAAABAAAAAAAAAAEAAAgAAAAAAQAAKAAAAAABAAAQAAAAAAEAAAAA\n",
              "AAAAAQAACAAAAAABAAAoAAAAAAEAABAAAAAAAQAAAAAAAAABAAAIAAAAAAEAACgAAAAAAQAAEAAA\n",
              "AAABAAAAAAAAAAEAAAgAAAAAAQAAKAAAAAABAAAQAAAAAAEAAAAAAAAAAQAACAAAAAABAAAoAAAA\n",
              "AAEAABAAAAAAAQAAAAAAAAABAAAIAAAAAAEAABgAAAAAAQAACAAAAAAcc3RzYwAAAAAAAAABAAAA\n",
              "AQAAAGQAAAABAAABpHN0c3oAAAAAAAAAAAAAAGQAABP6AAABjAAAAPAAAADkAAAA4wAAAQIAAAFG\n",
              "AAAANAAAAM8AAADYAAAA5gAAAOAAAADiAAAA4wAAAOwAAADhAAAA8gAAAN8AAADsAAAA4AAAAQ0A\n",
              "AADnAAAA1gAAAPgAAAD6AAABKgAAACcAAAFuAAAAMgAAABsAAAAYAAABfQAAACUAAAApAAABaQAA\n",
              "ADAAAAAgAAAALwAAAUIAAAAiAAAAGwAAACcAAAF6AAAAKQAAACEAAAAwAAABggAAADsAAAAsAAAA\n",
              "LwAAAXwAAAA+AAAAMwAAABQAAAE7AAAANQAAADUAAAAsAAABZgAAAE4AAAApAAAAIgAAAWUAAAA5\n",
              "AAAAGwAAAB0AAAFLAAAAPQAAABwAAAAXAAABBgAAACoAAAAtAAAAEQAAARQAAAAmAAAAFAAAABUA\n",
              "AADlAAAALQAAABUAAAAXAAAAlAAAAC0AAAAUAAAAEQAAAL0AAAApAAAAGAAAABQAAABmAAAAHAAA\n",
              "ABEAAAARAAAARwAAADIAAAAXAAAAHgAAADEAAAAUAAAAFHN0Y28AAAAAAAAAAQAAACwAAABidWR0\n",
              "YQAAAFptZXRhAAAAAAAAACFoZGxyAAAAAAAAAABtZGlyYXBwbAAAAAAAAAAAAAAAAC1pbHN0AAAA\n",
              "Jal0b28AAAAdZGF0YQAAAAEAAAAATGF2ZjU3LjgzLjEwMA==\n",
              "\">\n",
              "  Your browser does not support the video tag.\n",
              "</video>"
            ],
            "text/plain": [
              "<IPython.core.display.HTML object>"
            ]
          },
          "metadata": {
            "tags": []
          },
          "execution_count": 177
        }
      ]
    },
    {
      "metadata": {
        "trusted": true,
        "_uuid": "cb7e6bc1301a013cc1b39049a05107b1f93f4add",
        "id": "dLPMQaNuFu4i",
        "colab_type": "code",
        "outputId": "9b4a5704-0c8b-45ff-db22-0f5ef955e0a7",
        "colab": {
          "base_uri": "https://localhost:8080/",
          "height": 34
        }
      },
      "cell_type": "code",
      "source": [
        "X_test.shape"
      ],
      "execution_count": 0,
      "outputs": [
        {
          "output_type": "execute_result",
          "data": {
            "text/plain": [
              "(79, 86)"
            ]
          },
          "metadata": {
            "tags": []
          },
          "execution_count": 161
        }
      ]
    },
    {
      "metadata": {
        "_uuid": "6e8cb75e9e9c6d2c7752407a417f10188622f5ae",
        "id": "l0_iBhSqFu4p",
        "colab_type": "text"
      },
      "cell_type": "markdown",
      "source": [
        "## Running the model on the test data set"
      ]
    },
    {
      "metadata": {
        "trusted": true,
        "_uuid": "8566ef79f3f5f681e780dc2e73698b6ba496a904",
        "scrolled": true,
        "id": "uKavVx7WFu4r",
        "colab_type": "code",
        "colab": {}
      },
      "cell_type": "code",
      "source": [
        "test_new1=test_new.drop('PhoneId',axis=1)"
      ],
      "execution_count": 0,
      "outputs": []
    },
    {
      "metadata": {
        "trusted": true,
        "_uuid": "1baf49fda72cd4d55fbb519b2bc0f3058394323e",
        "id": "mMyV2HFvFu40",
        "colab_type": "code",
        "colab": {}
      },
      "cell_type": "code",
      "source": [
        "test_new1=test_new1.values"
      ],
      "execution_count": 0,
      "outputs": []
    },
    {
      "metadata": {
        "trusted": true,
        "_uuid": "69f7b6ab3a323f9e1c7a5ee995891a40df1f358c",
        "id": "TbGOlJ3AFu45",
        "colab_type": "code",
        "outputId": "a80492ea-41e9-4d10-9637-f8c2c98e14f8",
        "colab": {
          "base_uri": "https://localhost:8080/",
          "height": 141
        }
      },
      "cell_type": "code",
      "source": [
        "test_new1"
      ],
      "execution_count": 0,
      "outputs": [
        {
          "output_type": "execute_result",
          "data": {
            "text/plain": [
              "array([[ 80.85, 271.  ,   5.  , ...,   0.  ,   1.  ,   0.  ],\n",
              "       [ 81.6 , 402.  ,  12.  , ...,   0.  ,   1.  ,   0.  ],\n",
              "       [ 83.84, 409.  ,  25.  , ...,   0.  ,   1.  ,   0.  ],\n",
              "       ...,\n",
              "       [ 70.72, 267.  ,   5.  , ...,   1.  ,   0.  ,   0.  ],\n",
              "       [ 68.66, 282.  ,   8.  , ...,   1.  ,   0.  ,   0.  ],\n",
              "       [ 68.55, 565.  ,   4.  , ...,   0.  ,   0.  ,   1.  ]])"
            ]
          },
          "metadata": {
            "tags": []
          },
          "execution_count": 164
        }
      ]
    },
    {
      "metadata": {
        "trusted": true,
        "_uuid": "465f7d67438be6a5dbe00948eef555d5d5280b6c",
        "id": "05HvOi6bFu5C",
        "colab_type": "code",
        "outputId": "a65551b5-60f1-4d0d-fc83-75d6a7b443a4",
        "colab": {
          "base_uri": "https://localhost:8080/",
          "height": 34
        }
      },
      "cell_type": "code",
      "source": [
        "test_new1.shape"
      ],
      "execution_count": 0,
      "outputs": [
        {
          "output_type": "execute_result",
          "data": {
            "text/plain": [
              "(119, 86)"
            ]
          },
          "metadata": {
            "tags": []
          },
          "execution_count": 165
        }
      ]
    },
    {
      "metadata": {
        "trusted": true,
        "_uuid": "b7f9f3e653e911d76ea0e0f5d1aee37ed2354819",
        "id": "NQr9hJ9UFu5J",
        "colab_type": "code",
        "colab": {}
      },
      "cell_type": "code",
      "source": [
        "Y_pred_test = perceptron.predict(test_new1)"
      ],
      "execution_count": 0,
      "outputs": []
    },
    {
      "metadata": {
        "trusted": true,
        "_uuid": "47923769afd7bb52e98950ee53605fd11f6dc1a0",
        "id": "nQso5FspFu5P",
        "colab_type": "code",
        "outputId": "9ea3eae1-2e32-4285-818e-5b2567d884d0",
        "colab": {
          "base_uri": "https://localhost:8080/",
          "height": 123
        }
      },
      "cell_type": "code",
      "source": [
        "Y_pred_test"
      ],
      "execution_count": 0,
      "outputs": [
        {
          "output_type": "execute_result",
          "data": {
            "text/plain": [
              "array([1, 1, 1, 1, 1, 1, 1, 1, 1, 1, 1, 1, 1, 1, 1, 1, 1, 1, 1, 1, 1, 1,\n",
              "       1, 1, 1, 1, 1, 1, 1, 1, 1, 1, 1, 1, 1, 1, 0, 1, 1, 1, 1, 1, 1, 1,\n",
              "       1, 1, 1, 1, 1, 1, 1, 0, 1, 1, 1, 1, 1, 1, 1, 1, 1, 0, 0, 0, 1, 1,\n",
              "       1, 1, 1, 1, 0, 1, 1, 1, 1, 1, 1, 0, 1, 1, 1, 1, 1, 1, 1, 1, 1, 1,\n",
              "       1, 0, 1, 1, 1, 1, 1, 1, 1, 1, 1, 1, 1, 1, 1, 0, 1, 1, 1, 1, 1, 1,\n",
              "       1, 1, 0, 1, 1, 1, 1, 1, 1])"
            ]
          },
          "metadata": {
            "tags": []
          },
          "execution_count": 167
        }
      ]
    },
    {
      "metadata": {
        "trusted": true,
        "_uuid": "06238ff7ad6ad741a1eb38fd331c04e4621efae5",
        "id": "hMzPrH6pFu5V",
        "colab_type": "code",
        "colab": {}
      },
      "cell_type": "code",
      "source": [
        "Y_pred_test=pd.DataFrame(Y_pred_test)"
      ],
      "execution_count": 0,
      "outputs": []
    },
    {
      "metadata": {
        "trusted": true,
        "_uuid": "204521593203902d695ed8e3be4767e31ac82326",
        "id": "L_6Re5pfFu5d",
        "colab_type": "code",
        "outputId": "cb812c5b-ab85-449b-fb4e-9f4d50d910f1",
        "colab": {
          "base_uri": "https://localhost:8080/",
          "height": 34
        }
      },
      "cell_type": "code",
      "source": [
        "list(Y_pred_test.columns.values)"
      ],
      "execution_count": 0,
      "outputs": [
        {
          "output_type": "execute_result",
          "data": {
            "text/plain": [
              "[0]"
            ]
          },
          "metadata": {
            "tags": []
          },
          "execution_count": 169
        }
      ]
    },
    {
      "metadata": {
        "_uuid": "9d326c99259c0efa97d1fb594ab1704cb308d4cd",
        "id": "9Kzkl9YUFu5k",
        "colab_type": "text"
      },
      "cell_type": "markdown",
      "source": [
        ""
      ]
    },
    {
      "metadata": {
        "_uuid": "886142ac5d89eb2156bc2962c71b6d93937e7a76",
        "id": "D9yE3WTiFu5m",
        "colab_type": "text"
      },
      "cell_type": "markdown",
      "source": [
        "## Solution"
      ]
    },
    {
      "metadata": {
        "trusted": true,
        "_uuid": "f183c8b20336b46ae69fcad2b94fe08bcefe9b3c",
        "id": "ZNU0w1NEFu5o",
        "colab_type": "code",
        "colab": {}
      },
      "cell_type": "code",
      "source": [
        "test_new"
      ],
      "execution_count": 0,
      "outputs": []
    },
    {
      "metadata": {
        "trusted": true,
        "_uuid": "24f26623d1d95045bf0a8e4c2f03385b8ab37aae",
        "id": "gkquEXr1Fu5u",
        "colab_type": "code",
        "outputId": "aac5435f-b2b3-4419-fc2a-1b35832a4a51",
        "colab": {
          "base_uri": "https://localhost:8080/",
          "height": 197
        }
      },
      "cell_type": "code",
      "source": [
        "submission = pd.DataFrame({'PhoneId':test_new['PhoneId'], 'Class':Y_pred_test[0]})\n",
        "submission = submission[['PhoneId', 'Class']]\n",
        "submission.head()"
      ],
      "execution_count": 0,
      "outputs": [
        {
          "output_type": "execute_result",
          "data": {
            "text/html": [
              "<div>\n",
              "<style scoped>\n",
              "    .dataframe tbody tr th:only-of-type {\n",
              "        vertical-align: middle;\n",
              "    }\n",
              "\n",
              "    .dataframe tbody tr th {\n",
              "        vertical-align: top;\n",
              "    }\n",
              "\n",
              "    .dataframe thead th {\n",
              "        text-align: right;\n",
              "    }\n",
              "</style>\n",
              "<table border=\"1\" class=\"dataframe\">\n",
              "  <thead>\n",
              "    <tr style=\"text-align: right;\">\n",
              "      <th></th>\n",
              "      <th>PhoneId</th>\n",
              "      <th>Class</th>\n",
              "    </tr>\n",
              "  </thead>\n",
              "  <tbody>\n",
              "    <tr>\n",
              "      <th>0</th>\n",
              "      <td>3</td>\n",
              "      <td>1</td>\n",
              "    </tr>\n",
              "    <tr>\n",
              "      <th>1</th>\n",
              "      <td>11</td>\n",
              "      <td>1</td>\n",
              "    </tr>\n",
              "    <tr>\n",
              "      <th>2</th>\n",
              "      <td>13</td>\n",
              "      <td>1</td>\n",
              "    </tr>\n",
              "    <tr>\n",
              "      <th>3</th>\n",
              "      <td>16</td>\n",
              "      <td>1</td>\n",
              "    </tr>\n",
              "    <tr>\n",
              "      <th>4</th>\n",
              "      <td>19</td>\n",
              "      <td>1</td>\n",
              "    </tr>\n",
              "  </tbody>\n",
              "</table>\n",
              "</div>"
            ],
            "text/plain": [
              "   PhoneId  Class\n",
              "0        3      1\n",
              "1       11      1\n",
              "2       13      1\n",
              "3       16      1\n",
              "4       19      1"
            ]
          },
          "metadata": {
            "tags": []
          },
          "execution_count": 171
        }
      ]
    },
    {
      "metadata": {
        "trusted": true,
        "_uuid": "9c2be7673377e39c31a5f7ab47e0628b6480d2fb",
        "id": "PrypweTkFu56",
        "colab_type": "code",
        "colab": {}
      },
      "cell_type": "code",
      "source": [
        "submission"
      ],
      "execution_count": 0,
      "outputs": []
    },
    {
      "metadata": {
        "trusted": true,
        "_uuid": "26385e2655c2378a9998b9645c5213d5beaf153c",
        "id": "2gDlZ-wrFu6D",
        "colab_type": "code",
        "colab": {}
      },
      "cell_type": "code",
      "source": [
        "submission.to_csv(\"submission.csv\", index=False)"
      ],
      "execution_count": 0,
      "outputs": []
    },
    {
      "metadata": {
        "id": "56V6PKFUh7kr",
        "colab_type": "code",
        "colab": {}
      },
      "cell_type": "code",
      "source": [
        "a=pd.read_csv(\"submission.csv\")"
      ],
      "execution_count": 0,
      "outputs": []
    }
  ]
}